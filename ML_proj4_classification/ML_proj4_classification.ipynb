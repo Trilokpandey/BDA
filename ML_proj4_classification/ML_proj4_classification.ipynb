{
 "cells": [
  {
   "cell_type": "code",
   "execution_count": 284,
   "metadata": {},
   "outputs": [],
   "source": [
    "# Python Project Template\n",
    "\n",
    "# 1. Prepare Problem \n",
    "\n",
    "# a) Load libraries \n",
    "# b) Load dataset\n",
    "\n",
    "# 2. Summarize Data \n",
    "\n",
    "# a) Descriptive statistics \n",
    "# b) Data visualizations\n",
    "\n",
    "# 3. Prepare Data\n",
    "\n",
    "# a) Data Cleaning \n",
    "# b) Feature Selection \n",
    "# c) Data Transforms\n",
    "\n",
    "# 4. Evaluate Algorithms \n",
    "\n",
    "# a) Split-out validation dataset \n",
    "# b) Test options and evaluation metric \n",
    "# c) Spot Check Algorithms \n",
    "# d) Compare Algorithms\n",
    "\n",
    "# 5. Improve Accuracy\n",
    "\n",
    "# a) Algorithm Tuning\n",
    "# b) Ensembles\n",
    "\n",
    "# 6. Finalize Model \n",
    "\n",
    "# a) Predictions on validation dataset \n",
    "# b) Create standalone model on entire training dataset \n",
    "# c) Save model for later use\n"
   ]
  },
  {
   "cell_type": "markdown",
   "metadata": {},
   "source": [
    "# 1. Prepare Problem "
   ]
  },
  {
   "cell_type": "code",
   "execution_count": 285,
   "metadata": {},
   "outputs": [],
   "source": [
    "import pandas as pd\n",
    "from pandas import set_option\n",
    "from pandas.plotting import scatter_matrix\n",
    "import matplotlib.pyplot as plt\n",
    "from sklearn.preprocessing import StandardScaler\n",
    "from sklearn.model_selection import train_test_split\n",
    "from sklearn.model_selection import KFold\n",
    "from sklearn.model_selection import cross_val_score\n",
    "from sklearn.model_selection import GridSearchCV\n",
    "from sklearn.metrics import classification_report\n",
    "from sklearn.metrics import confusion_matrix\n",
    "from sklearn.metrics import accuracy_score\n",
    "from sklearn.pipeline import Pipeline\n",
    "from sklearn.linear_model import LogisticRegression\n",
    "from sklearn.discriminant_analysis import LinearDiscriminantAnalysis\n",
    "from sklearn.tree import DecisionTreeClassifier\n",
    "from sklearn.naive_bayes import GaussianNB\n",
    "from sklearn.svm import SVC\n",
    "from sklearn.neighbors import KNeighborsClassifier\n",
    "from sklearn.ensemble import AdaBoostClassifier\n",
    "from sklearn.ensemble import GradientBoostingClassifier\n",
    "from sklearn.ensemble import RandomForestClassifier\n",
    "from sklearn.ensemble import ExtraTreesClassifier\n"
   ]
  },
  {
   "cell_type": "code",
   "execution_count": 286,
   "metadata": {},
   "outputs": [],
   "source": [
    "# Load dataset\n",
    "\n",
    "df =pd.read_csv(\"Desktop\\\\sonar.csv\", header=None)\n"
   ]
  },
  {
   "cell_type": "markdown",
   "metadata": {},
   "source": [
    "# 2. Summarize Data "
   ]
  },
  {
   "cell_type": "code",
   "execution_count": 287,
   "metadata": {},
   "outputs": [
    {
     "data": {
      "text/html": [
       "<div>\n",
       "<style scoped>\n",
       "    .dataframe tbody tr th:only-of-type {\n",
       "        vertical-align: middle;\n",
       "    }\n",
       "\n",
       "    .dataframe tbody tr th {\n",
       "        vertical-align: top;\n",
       "    }\n",
       "\n",
       "    .dataframe thead th {\n",
       "        text-align: right;\n",
       "    }\n",
       "</style>\n",
       "<table border=\"1\" class=\"dataframe\">\n",
       "  <thead>\n",
       "    <tr style=\"text-align: right;\">\n",
       "      <th></th>\n",
       "      <th>0</th>\n",
       "      <th>1</th>\n",
       "      <th>2</th>\n",
       "      <th>3</th>\n",
       "      <th>4</th>\n",
       "      <th>5</th>\n",
       "      <th>6</th>\n",
       "      <th>7</th>\n",
       "      <th>8</th>\n",
       "      <th>9</th>\n",
       "      <th>...</th>\n",
       "      <th>51</th>\n",
       "      <th>52</th>\n",
       "      <th>53</th>\n",
       "      <th>54</th>\n",
       "      <th>55</th>\n",
       "      <th>56</th>\n",
       "      <th>57</th>\n",
       "      <th>58</th>\n",
       "      <th>59</th>\n",
       "      <th>60</th>\n",
       "    </tr>\n",
       "  </thead>\n",
       "  <tbody>\n",
       "    <tr>\n",
       "      <th>0</th>\n",
       "      <td>0.020</td>\n",
       "      <td>0.037</td>\n",
       "      <td>0.043</td>\n",
       "      <td>0.021</td>\n",
       "      <td>0.095</td>\n",
       "      <td>0.099</td>\n",
       "      <td>0.154</td>\n",
       "      <td>0.160</td>\n",
       "      <td>0.311</td>\n",
       "      <td>0.211</td>\n",
       "      <td>...</td>\n",
       "      <td>0.003</td>\n",
       "      <td>0.006</td>\n",
       "      <td>0.016</td>\n",
       "      <td>0.007</td>\n",
       "      <td>0.017</td>\n",
       "      <td>0.018</td>\n",
       "      <td>0.008</td>\n",
       "      <td>0.009</td>\n",
       "      <td>0.003</td>\n",
       "      <td>R</td>\n",
       "    </tr>\n",
       "    <tr>\n",
       "      <th>1</th>\n",
       "      <td>0.045</td>\n",
       "      <td>0.052</td>\n",
       "      <td>0.084</td>\n",
       "      <td>0.069</td>\n",
       "      <td>0.118</td>\n",
       "      <td>0.258</td>\n",
       "      <td>0.216</td>\n",
       "      <td>0.348</td>\n",
       "      <td>0.334</td>\n",
       "      <td>0.287</td>\n",
       "      <td>...</td>\n",
       "      <td>0.008</td>\n",
       "      <td>0.009</td>\n",
       "      <td>0.005</td>\n",
       "      <td>0.009</td>\n",
       "      <td>0.019</td>\n",
       "      <td>0.014</td>\n",
       "      <td>0.005</td>\n",
       "      <td>0.005</td>\n",
       "      <td>0.004</td>\n",
       "      <td>R</td>\n",
       "    </tr>\n",
       "    <tr>\n",
       "      <th>2</th>\n",
       "      <td>0.026</td>\n",
       "      <td>0.058</td>\n",
       "      <td>0.110</td>\n",
       "      <td>0.108</td>\n",
       "      <td>0.097</td>\n",
       "      <td>0.228</td>\n",
       "      <td>0.243</td>\n",
       "      <td>0.377</td>\n",
       "      <td>0.560</td>\n",
       "      <td>0.619</td>\n",
       "      <td>...</td>\n",
       "      <td>0.023</td>\n",
       "      <td>0.017</td>\n",
       "      <td>0.009</td>\n",
       "      <td>0.018</td>\n",
       "      <td>0.024</td>\n",
       "      <td>0.032</td>\n",
       "      <td>0.016</td>\n",
       "      <td>0.009</td>\n",
       "      <td>0.008</td>\n",
       "      <td>R</td>\n",
       "    </tr>\n",
       "    <tr>\n",
       "      <th>3</th>\n",
       "      <td>0.010</td>\n",
       "      <td>0.017</td>\n",
       "      <td>0.062</td>\n",
       "      <td>0.021</td>\n",
       "      <td>0.021</td>\n",
       "      <td>0.037</td>\n",
       "      <td>0.110</td>\n",
       "      <td>0.128</td>\n",
       "      <td>0.060</td>\n",
       "      <td>0.126</td>\n",
       "      <td>...</td>\n",
       "      <td>0.012</td>\n",
       "      <td>0.004</td>\n",
       "      <td>0.015</td>\n",
       "      <td>0.009</td>\n",
       "      <td>0.007</td>\n",
       "      <td>0.005</td>\n",
       "      <td>0.004</td>\n",
       "      <td>0.004</td>\n",
       "      <td>0.012</td>\n",
       "      <td>R</td>\n",
       "    </tr>\n",
       "    <tr>\n",
       "      <th>4</th>\n",
       "      <td>0.076</td>\n",
       "      <td>0.067</td>\n",
       "      <td>0.048</td>\n",
       "      <td>0.039</td>\n",
       "      <td>0.059</td>\n",
       "      <td>0.065</td>\n",
       "      <td>0.121</td>\n",
       "      <td>0.247</td>\n",
       "      <td>0.356</td>\n",
       "      <td>0.446</td>\n",
       "      <td>...</td>\n",
       "      <td>0.003</td>\n",
       "      <td>0.005</td>\n",
       "      <td>0.011</td>\n",
       "      <td>0.011</td>\n",
       "      <td>0.002</td>\n",
       "      <td>0.007</td>\n",
       "      <td>0.005</td>\n",
       "      <td>0.011</td>\n",
       "      <td>0.009</td>\n",
       "      <td>R</td>\n",
       "    </tr>\n",
       "    <tr>\n",
       "      <th>5</th>\n",
       "      <td>0.029</td>\n",
       "      <td>0.045</td>\n",
       "      <td>0.028</td>\n",
       "      <td>0.017</td>\n",
       "      <td>0.038</td>\n",
       "      <td>0.099</td>\n",
       "      <td>0.120</td>\n",
       "      <td>0.183</td>\n",
       "      <td>0.210</td>\n",
       "      <td>0.304</td>\n",
       "      <td>...</td>\n",
       "      <td>0.004</td>\n",
       "      <td>0.001</td>\n",
       "      <td>0.004</td>\n",
       "      <td>0.001</td>\n",
       "      <td>0.009</td>\n",
       "      <td>0.006</td>\n",
       "      <td>0.003</td>\n",
       "      <td>0.005</td>\n",
       "      <td>0.006</td>\n",
       "      <td>R</td>\n",
       "    </tr>\n",
       "    <tr>\n",
       "      <th>6</th>\n",
       "      <td>0.032</td>\n",
       "      <td>0.096</td>\n",
       "      <td>0.132</td>\n",
       "      <td>0.141</td>\n",
       "      <td>0.167</td>\n",
       "      <td>0.171</td>\n",
       "      <td>0.073</td>\n",
       "      <td>0.140</td>\n",
       "      <td>0.208</td>\n",
       "      <td>0.351</td>\n",
       "      <td>...</td>\n",
       "      <td>0.020</td>\n",
       "      <td>0.025</td>\n",
       "      <td>0.013</td>\n",
       "      <td>0.007</td>\n",
       "      <td>0.014</td>\n",
       "      <td>0.009</td>\n",
       "      <td>0.014</td>\n",
       "      <td>0.004</td>\n",
       "      <td>0.010</td>\n",
       "      <td>R</td>\n",
       "    </tr>\n",
       "    <tr>\n",
       "      <th>7</th>\n",
       "      <td>0.052</td>\n",
       "      <td>0.055</td>\n",
       "      <td>0.084</td>\n",
       "      <td>0.032</td>\n",
       "      <td>0.116</td>\n",
       "      <td>0.092</td>\n",
       "      <td>0.103</td>\n",
       "      <td>0.061</td>\n",
       "      <td>0.146</td>\n",
       "      <td>0.284</td>\n",
       "      <td>...</td>\n",
       "      <td>0.008</td>\n",
       "      <td>0.012</td>\n",
       "      <td>0.004</td>\n",
       "      <td>0.012</td>\n",
       "      <td>0.010</td>\n",
       "      <td>0.009</td>\n",
       "      <td>0.005</td>\n",
       "      <td>0.005</td>\n",
       "      <td>0.005</td>\n",
       "      <td>R</td>\n",
       "    </tr>\n",
       "    <tr>\n",
       "      <th>8</th>\n",
       "      <td>0.022</td>\n",
       "      <td>0.037</td>\n",
       "      <td>0.048</td>\n",
       "      <td>0.048</td>\n",
       "      <td>0.065</td>\n",
       "      <td>0.059</td>\n",
       "      <td>0.075</td>\n",
       "      <td>0.010</td>\n",
       "      <td>0.068</td>\n",
       "      <td>0.149</td>\n",
       "      <td>...</td>\n",
       "      <td>0.015</td>\n",
       "      <td>0.013</td>\n",
       "      <td>0.015</td>\n",
       "      <td>0.006</td>\n",
       "      <td>0.005</td>\n",
       "      <td>0.006</td>\n",
       "      <td>0.009</td>\n",
       "      <td>0.006</td>\n",
       "      <td>0.002</td>\n",
       "      <td>R</td>\n",
       "    </tr>\n",
       "    <tr>\n",
       "      <th>9</th>\n",
       "      <td>0.016</td>\n",
       "      <td>0.017</td>\n",
       "      <td>0.035</td>\n",
       "      <td>0.007</td>\n",
       "      <td>0.019</td>\n",
       "      <td>0.067</td>\n",
       "      <td>0.106</td>\n",
       "      <td>0.070</td>\n",
       "      <td>0.096</td>\n",
       "      <td>0.025</td>\n",
       "      <td>...</td>\n",
       "      <td>0.009</td>\n",
       "      <td>0.022</td>\n",
       "      <td>0.018</td>\n",
       "      <td>0.008</td>\n",
       "      <td>0.007</td>\n",
       "      <td>0.003</td>\n",
       "      <td>0.004</td>\n",
       "      <td>0.006</td>\n",
       "      <td>0.004</td>\n",
       "      <td>R</td>\n",
       "    </tr>\n",
       "  </tbody>\n",
       "</table>\n",
       "<p>10 rows × 61 columns</p>\n",
       "</div>"
      ],
      "text/plain": [
       "      0      1      2      3      4      5      6      7      8      9  ...     51     52     53  \\\n",
       "0  0.020  0.037  0.043  0.021  0.095  0.099  0.154  0.160  0.311  0.211 ...  0.003  0.006  0.016   \n",
       "1  0.045  0.052  0.084  0.069  0.118  0.258  0.216  0.348  0.334  0.287 ...  0.008  0.009  0.005   \n",
       "2  0.026  0.058  0.110  0.108  0.097  0.228  0.243  0.377  0.560  0.619 ...  0.023  0.017  0.009   \n",
       "3  0.010  0.017  0.062  0.021  0.021  0.037  0.110  0.128  0.060  0.126 ...  0.012  0.004  0.015   \n",
       "4  0.076  0.067  0.048  0.039  0.059  0.065  0.121  0.247  0.356  0.446 ...  0.003  0.005  0.011   \n",
       "5  0.029  0.045  0.028  0.017  0.038  0.099  0.120  0.183  0.210  0.304 ...  0.004  0.001  0.004   \n",
       "6  0.032  0.096  0.132  0.141  0.167  0.171  0.073  0.140  0.208  0.351 ...  0.020  0.025  0.013   \n",
       "7  0.052  0.055  0.084  0.032  0.116  0.092  0.103  0.061  0.146  0.284 ...  0.008  0.012  0.004   \n",
       "8  0.022  0.037  0.048  0.048  0.065  0.059  0.075  0.010  0.068  0.149 ...  0.015  0.013  0.015   \n",
       "9  0.016  0.017  0.035  0.007  0.019  0.067  0.106  0.070  0.096  0.025 ...  0.009  0.022  0.018   \n",
       "\n",
       "      54     55     56     57     58     59  60  \n",
       "0  0.007  0.017  0.018  0.008  0.009  0.003   R  \n",
       "1  0.009  0.019  0.014  0.005  0.005  0.004   R  \n",
       "2  0.018  0.024  0.032  0.016  0.009  0.008   R  \n",
       "3  0.009  0.007  0.005  0.004  0.004  0.012   R  \n",
       "4  0.011  0.002  0.007  0.005  0.011  0.009   R  \n",
       "5  0.001  0.009  0.006  0.003  0.005  0.006   R  \n",
       "6  0.007  0.014  0.009  0.014  0.004  0.010   R  \n",
       "7  0.012  0.010  0.009  0.005  0.005  0.005   R  \n",
       "8  0.006  0.005  0.006  0.009  0.006  0.002   R  \n",
       "9  0.008  0.007  0.003  0.004  0.006  0.004   R  \n",
       "\n",
       "[10 rows x 61 columns]"
      ]
     },
     "execution_count": 287,
     "metadata": {},
     "output_type": "execute_result"
    }
   ],
   "source": [
    "set_option('display.width', 100)\n",
    "df.head(10)"
   ]
  },
  {
   "cell_type": "code",
   "execution_count": 288,
   "metadata": {},
   "outputs": [
    {
     "data": {
      "text/plain": [
       "(208, 61)"
      ]
     },
     "execution_count": 288,
     "metadata": {},
     "output_type": "execute_result"
    }
   ],
   "source": [
    "df.shape"
   ]
  },
  {
   "cell_type": "code",
   "execution_count": 289,
   "metadata": {},
   "outputs": [
    {
     "data": {
      "text/plain": [
       "0     float64\n",
       "1     float64\n",
       "2     float64\n",
       "3     float64\n",
       "4     float64\n",
       "5     float64\n",
       "6     float64\n",
       "7     float64\n",
       "8     float64\n",
       "9     float64\n",
       "10    float64\n",
       "11    float64\n",
       "12    float64\n",
       "13    float64\n",
       "14    float64\n",
       "15    float64\n",
       "16    float64\n",
       "17    float64\n",
       "18    float64\n",
       "19    float64\n",
       "20    float64\n",
       "21    float64\n",
       "22    float64\n",
       "23    float64\n",
       "24    float64\n",
       "25    float64\n",
       "26    float64\n",
       "27    float64\n",
       "28    float64\n",
       "29    float64\n",
       "30    float64\n",
       "31    float64\n",
       "32    float64\n",
       "33    float64\n",
       "34    float64\n",
       "35    float64\n",
       "36    float64\n",
       "37    float64\n",
       "38    float64\n",
       "39    float64\n",
       "40    float64\n",
       "41    float64\n",
       "42    float64\n",
       "43    float64\n",
       "44    float64\n",
       "45    float64\n",
       "46    float64\n",
       "47    float64\n",
       "48    float64\n",
       "49    float64\n",
       "50    float64\n",
       "51    float64\n",
       "52    float64\n",
       "53    float64\n",
       "54    float64\n",
       "55    float64\n",
       "56    float64\n",
       "57    float64\n",
       "58    float64\n",
       "59    float64\n",
       "60     object\n",
       "dtype: object"
      ]
     },
     "execution_count": 289,
     "metadata": {},
     "output_type": "execute_result"
    }
   ],
   "source": [
    "set_option('display.max_row',500)\n",
    "df.dtypes"
   ]
  },
  {
   "cell_type": "code",
   "execution_count": 290,
   "metadata": {},
   "outputs": [
    {
     "data": {
      "text/html": [
       "<div>\n",
       "<style scoped>\n",
       "    .dataframe tbody tr th:only-of-type {\n",
       "        vertical-align: middle;\n",
       "    }\n",
       "\n",
       "    .dataframe tbody tr th {\n",
       "        vertical-align: top;\n",
       "    }\n",
       "\n",
       "    .dataframe thead th {\n",
       "        text-align: right;\n",
       "    }\n",
       "</style>\n",
       "<table border=\"1\" class=\"dataframe\">\n",
       "  <thead>\n",
       "    <tr style=\"text-align: right;\">\n",
       "      <th></th>\n",
       "      <th>0</th>\n",
       "      <th>1</th>\n",
       "      <th>2</th>\n",
       "      <th>3</th>\n",
       "      <th>4</th>\n",
       "      <th>5</th>\n",
       "      <th>6</th>\n",
       "      <th>7</th>\n",
       "      <th>8</th>\n",
       "      <th>9</th>\n",
       "      <th>...</th>\n",
       "      <th>50</th>\n",
       "      <th>51</th>\n",
       "      <th>52</th>\n",
       "      <th>53</th>\n",
       "      <th>54</th>\n",
       "      <th>55</th>\n",
       "      <th>56</th>\n",
       "      <th>57</th>\n",
       "      <th>58</th>\n",
       "      <th>59</th>\n",
       "    </tr>\n",
       "  </thead>\n",
       "  <tbody>\n",
       "    <tr>\n",
       "      <th>count</th>\n",
       "      <td>208.000</td>\n",
       "      <td>2.080e+02</td>\n",
       "      <td>208.000</td>\n",
       "      <td>208.000</td>\n",
       "      <td>208.000</td>\n",
       "      <td>208.000</td>\n",
       "      <td>208.000</td>\n",
       "      <td>208.000</td>\n",
       "      <td>208.000</td>\n",
       "      <td>208.000</td>\n",
       "      <td>...</td>\n",
       "      <td>208.000</td>\n",
       "      <td>2.080e+02</td>\n",
       "      <td>2.080e+02</td>\n",
       "      <td>208.000</td>\n",
       "      <td>2.080e+02</td>\n",
       "      <td>2.080e+02</td>\n",
       "      <td>2.080e+02</td>\n",
       "      <td>2.080e+02</td>\n",
       "      <td>2.080e+02</td>\n",
       "      <td>2.080e+02</td>\n",
       "    </tr>\n",
       "    <tr>\n",
       "      <th>mean</th>\n",
       "      <td>0.029</td>\n",
       "      <td>3.844e-02</td>\n",
       "      <td>0.044</td>\n",
       "      <td>0.054</td>\n",
       "      <td>0.075</td>\n",
       "      <td>0.105</td>\n",
       "      <td>0.122</td>\n",
       "      <td>0.135</td>\n",
       "      <td>0.178</td>\n",
       "      <td>0.208</td>\n",
       "      <td>...</td>\n",
       "      <td>0.016</td>\n",
       "      <td>1.342e-02</td>\n",
       "      <td>1.071e-02</td>\n",
       "      <td>0.011</td>\n",
       "      <td>9.290e-03</td>\n",
       "      <td>8.222e-03</td>\n",
       "      <td>7.820e-03</td>\n",
       "      <td>7.949e-03</td>\n",
       "      <td>7.941e-03</td>\n",
       "      <td>6.507e-03</td>\n",
       "    </tr>\n",
       "    <tr>\n",
       "      <th>std</th>\n",
       "      <td>0.023</td>\n",
       "      <td>3.296e-02</td>\n",
       "      <td>0.038</td>\n",
       "      <td>0.047</td>\n",
       "      <td>0.056</td>\n",
       "      <td>0.059</td>\n",
       "      <td>0.062</td>\n",
       "      <td>0.085</td>\n",
       "      <td>0.118</td>\n",
       "      <td>0.134</td>\n",
       "      <td>...</td>\n",
       "      <td>0.012</td>\n",
       "      <td>9.634e-03</td>\n",
       "      <td>7.060e-03</td>\n",
       "      <td>0.007</td>\n",
       "      <td>7.088e-03</td>\n",
       "      <td>5.736e-03</td>\n",
       "      <td>5.785e-03</td>\n",
       "      <td>6.470e-03</td>\n",
       "      <td>6.181e-03</td>\n",
       "      <td>5.031e-03</td>\n",
       "    </tr>\n",
       "    <tr>\n",
       "      <th>min</th>\n",
       "      <td>0.002</td>\n",
       "      <td>6.000e-04</td>\n",
       "      <td>0.002</td>\n",
       "      <td>0.006</td>\n",
       "      <td>0.007</td>\n",
       "      <td>0.010</td>\n",
       "      <td>0.003</td>\n",
       "      <td>0.005</td>\n",
       "      <td>0.007</td>\n",
       "      <td>0.011</td>\n",
       "      <td>...</td>\n",
       "      <td>0.000</td>\n",
       "      <td>8.000e-04</td>\n",
       "      <td>5.000e-04</td>\n",
       "      <td>0.001</td>\n",
       "      <td>6.000e-04</td>\n",
       "      <td>4.000e-04</td>\n",
       "      <td>3.000e-04</td>\n",
       "      <td>3.000e-04</td>\n",
       "      <td>1.000e-04</td>\n",
       "      <td>6.000e-04</td>\n",
       "    </tr>\n",
       "    <tr>\n",
       "      <th>25%</th>\n",
       "      <td>0.013</td>\n",
       "      <td>1.645e-02</td>\n",
       "      <td>0.019</td>\n",
       "      <td>0.024</td>\n",
       "      <td>0.038</td>\n",
       "      <td>0.067</td>\n",
       "      <td>0.081</td>\n",
       "      <td>0.080</td>\n",
       "      <td>0.097</td>\n",
       "      <td>0.111</td>\n",
       "      <td>...</td>\n",
       "      <td>0.008</td>\n",
       "      <td>7.275e-03</td>\n",
       "      <td>5.075e-03</td>\n",
       "      <td>0.005</td>\n",
       "      <td>4.150e-03</td>\n",
       "      <td>4.400e-03</td>\n",
       "      <td>3.700e-03</td>\n",
       "      <td>3.600e-03</td>\n",
       "      <td>3.675e-03</td>\n",
       "      <td>3.100e-03</td>\n",
       "    </tr>\n",
       "    <tr>\n",
       "      <th>50%</th>\n",
       "      <td>0.023</td>\n",
       "      <td>3.080e-02</td>\n",
       "      <td>0.034</td>\n",
       "      <td>0.044</td>\n",
       "      <td>0.062</td>\n",
       "      <td>0.092</td>\n",
       "      <td>0.107</td>\n",
       "      <td>0.112</td>\n",
       "      <td>0.152</td>\n",
       "      <td>0.182</td>\n",
       "      <td>...</td>\n",
       "      <td>0.014</td>\n",
       "      <td>1.140e-02</td>\n",
       "      <td>9.550e-03</td>\n",
       "      <td>0.009</td>\n",
       "      <td>7.500e-03</td>\n",
       "      <td>6.850e-03</td>\n",
       "      <td>5.950e-03</td>\n",
       "      <td>5.800e-03</td>\n",
       "      <td>6.400e-03</td>\n",
       "      <td>5.300e-03</td>\n",
       "    </tr>\n",
       "    <tr>\n",
       "      <th>75%</th>\n",
       "      <td>0.036</td>\n",
       "      <td>4.795e-02</td>\n",
       "      <td>0.058</td>\n",
       "      <td>0.065</td>\n",
       "      <td>0.100</td>\n",
       "      <td>0.134</td>\n",
       "      <td>0.154</td>\n",
       "      <td>0.170</td>\n",
       "      <td>0.233</td>\n",
       "      <td>0.269</td>\n",
       "      <td>...</td>\n",
       "      <td>0.021</td>\n",
       "      <td>1.673e-02</td>\n",
       "      <td>1.490e-02</td>\n",
       "      <td>0.015</td>\n",
       "      <td>1.210e-02</td>\n",
       "      <td>1.058e-02</td>\n",
       "      <td>1.043e-02</td>\n",
       "      <td>1.035e-02</td>\n",
       "      <td>1.033e-02</td>\n",
       "      <td>8.525e-03</td>\n",
       "    </tr>\n",
       "    <tr>\n",
       "      <th>max</th>\n",
       "      <td>0.137</td>\n",
       "      <td>2.339e-01</td>\n",
       "      <td>0.306</td>\n",
       "      <td>0.426</td>\n",
       "      <td>0.401</td>\n",
       "      <td>0.382</td>\n",
       "      <td>0.373</td>\n",
       "      <td>0.459</td>\n",
       "      <td>0.683</td>\n",
       "      <td>0.711</td>\n",
       "      <td>...</td>\n",
       "      <td>0.100</td>\n",
       "      <td>7.090e-02</td>\n",
       "      <td>3.900e-02</td>\n",
       "      <td>0.035</td>\n",
       "      <td>4.470e-02</td>\n",
       "      <td>3.940e-02</td>\n",
       "      <td>3.550e-02</td>\n",
       "      <td>4.400e-02</td>\n",
       "      <td>3.640e-02</td>\n",
       "      <td>4.390e-02</td>\n",
       "    </tr>\n",
       "  </tbody>\n",
       "</table>\n",
       "<p>8 rows × 60 columns</p>\n",
       "</div>"
      ],
      "text/plain": [
       "            0          1        2        3        4        5        6        7        8        9   \\\n",
       "count  208.000  2.080e+02  208.000  208.000  208.000  208.000  208.000  208.000  208.000  208.000   \n",
       "mean     0.029  3.844e-02    0.044    0.054    0.075    0.105    0.122    0.135    0.178    0.208   \n",
       "std      0.023  3.296e-02    0.038    0.047    0.056    0.059    0.062    0.085    0.118    0.134   \n",
       "min      0.002  6.000e-04    0.002    0.006    0.007    0.010    0.003    0.005    0.007    0.011   \n",
       "25%      0.013  1.645e-02    0.019    0.024    0.038    0.067    0.081    0.080    0.097    0.111   \n",
       "50%      0.023  3.080e-02    0.034    0.044    0.062    0.092    0.107    0.112    0.152    0.182   \n",
       "75%      0.036  4.795e-02    0.058    0.065    0.100    0.134    0.154    0.170    0.233    0.269   \n",
       "max      0.137  2.339e-01    0.306    0.426    0.401    0.382    0.373    0.459    0.683    0.711   \n",
       "\n",
       "         ...           50         51         52       53         54         55         56  \\\n",
       "count    ...      208.000  2.080e+02  2.080e+02  208.000  2.080e+02  2.080e+02  2.080e+02   \n",
       "mean     ...        0.016  1.342e-02  1.071e-02    0.011  9.290e-03  8.222e-03  7.820e-03   \n",
       "std      ...        0.012  9.634e-03  7.060e-03    0.007  7.088e-03  5.736e-03  5.785e-03   \n",
       "min      ...        0.000  8.000e-04  5.000e-04    0.001  6.000e-04  4.000e-04  3.000e-04   \n",
       "25%      ...        0.008  7.275e-03  5.075e-03    0.005  4.150e-03  4.400e-03  3.700e-03   \n",
       "50%      ...        0.014  1.140e-02  9.550e-03    0.009  7.500e-03  6.850e-03  5.950e-03   \n",
       "75%      ...        0.021  1.673e-02  1.490e-02    0.015  1.210e-02  1.058e-02  1.043e-02   \n",
       "max      ...        0.100  7.090e-02  3.900e-02    0.035  4.470e-02  3.940e-02  3.550e-02   \n",
       "\n",
       "              57         58         59  \n",
       "count  2.080e+02  2.080e+02  2.080e+02  \n",
       "mean   7.949e-03  7.941e-03  6.507e-03  \n",
       "std    6.470e-03  6.181e-03  5.031e-03  \n",
       "min    3.000e-04  1.000e-04  6.000e-04  \n",
       "25%    3.600e-03  3.675e-03  3.100e-03  \n",
       "50%    5.800e-03  6.400e-03  5.300e-03  \n",
       "75%    1.035e-02  1.033e-02  8.525e-03  \n",
       "max    4.400e-02  3.640e-02  4.390e-02  \n",
       "\n",
       "[8 rows x 60 columns]"
      ]
     },
     "execution_count": 290,
     "metadata": {},
     "output_type": "execute_result"
    }
   ],
   "source": [
    "set_option('precision',3)\n",
    "df.describe()"
   ]
  },
  {
   "cell_type": "code",
   "execution_count": 291,
   "metadata": {},
   "outputs": [
    {
     "data": {
      "text/plain": [
       "60\n",
       "M    111\n",
       "R     97\n",
       "dtype: int64"
      ]
     },
     "execution_count": 291,
     "metadata": {},
     "output_type": "execute_result"
    }
   ],
   "source": [
    "df.groupby(60).size()"
   ]
  },
  {
   "cell_type": "code",
   "execution_count": 292,
   "metadata": {},
   "outputs": [
    {
     "data": {
      "text/plain": [
       "0     2.131\n",
       "1     2.156\n",
       "2     2.653\n",
       "3     3.402\n",
       "4     2.018\n",
       "5     1.248\n",
       "6     0.971\n",
       "7     1.481\n",
       "8     1.634\n",
       "9     1.281\n",
       "10    0.988\n",
       "11    0.589\n",
       "12    0.737\n",
       "13    1.022\n",
       "14    0.764\n",
       "15    0.695\n",
       "16    0.654\n",
       "17    0.526\n",
       "18    0.283\n",
       "19   -0.085\n",
       "20   -0.253\n",
       "21   -0.392\n",
       "22   -0.594\n",
       "23   -0.692\n",
       "24   -0.789\n",
       "25   -0.672\n",
       "26   -0.628\n",
       "27   -0.615\n",
       "28   -0.442\n",
       "29   -0.132\n",
       "30    0.260\n",
       "31    0.313\n",
       "32    0.424\n",
       "33    0.563\n",
       "34    0.592\n",
       "35    0.620\n",
       "36    0.677\n",
       "37    1.033\n",
       "38    0.909\n",
       "39    0.861\n",
       "40    0.864\n",
       "41    0.860\n",
       "42    0.909\n",
       "43    1.235\n",
       "44    1.367\n",
       "45    1.707\n",
       "46    1.790\n",
       "47    1.278\n",
       "48    1.273\n",
       "49    1.762\n",
       "50    2.716\n",
       "51    2.094\n",
       "52    1.061\n",
       "53    1.093\n",
       "54    1.790\n",
       "55    1.781\n",
       "56    1.653\n",
       "57    2.098\n",
       "58    1.738\n",
       "59    2.776\n",
       "dtype: float64"
      ]
     },
     "execution_count": 292,
     "metadata": {},
     "output_type": "execute_result"
    }
   ],
   "source": [
    "df.skew()"
   ]
  },
  {
   "cell_type": "markdown",
   "metadata": {},
   "source": [
    "### Unimodal Data Visualizations"
   ]
  },
  {
   "cell_type": "code",
   "execution_count": 293,
   "metadata": {},
   "outputs": [
    {
     "data": {
      "image/png": "[encoded data removed]",
      "text/plain": [
       "<Figure size 432x288 with 64 Axes>"
      ]
     },
     "metadata": {},
     "output_type": "display_data"
    }
   ],
   "source": [
    "df.hist(sharex=False,sharey=False,xlabelsize=1,ylabelsize=1)\n",
    "plt.show()"
   ]
  },
  {
   "cell_type": "code",
   "execution_count": 294,
   "metadata": {},
   "outputs": [
    {
     "data": {
      "image/png": "[encoded data removed]",
      "text/plain": [
       "<Figure size 432x288 with 64 Axes>"
      ]
     },
     "metadata": {},
     "output_type": "display_data"
    }
   ],
   "source": [
    "df.plot(kind='density',subplots=True,layout=(8,8),sharex=False,legend=False,fontsize=1)\n",
    "plt.show()"
   ]
  },
  {
   "cell_type": "markdown",
   "metadata": {},
   "source": [
    "This is useful, you can see that many of the attributes have a skewed distribution. A power transform like a Box-Cox transform that can correct for the skew in distributions might be useful.It is always good to look at box and whisker plots of numeric attributes to get an idea of the spread of values."
   ]
  },
  {
   "cell_type": "markdown",
   "metadata": {},
   "source": [
    "### Multimodal Data Visualizations"
   ]
  },
  {
   "cell_type": "code",
   "execution_count": 295,
   "metadata": {},
   "outputs": [
    {
     "data": {
      "image/png": "[encoded data removed]",
      "text/plain": [
       "<Figure size 432x288 with 2 Axes>"
      ]
     },
     "metadata": {},
     "output_type": "display_data"
    }
   ],
   "source": [
    "fig=plt.figure()\n",
    "ax=fig.add_subplot(111)\n",
    "cax=ax.matshow(df.corr(),vmax=1,vmin=-1,interpolation='none')\n",
    "fig.colorbar(cax)\n",
    "plt.show()\n"
   ]
  },
  {
   "cell_type": "markdown",
   "metadata": {},
   "source": [
    "It looks like there is also some structure in the order of the attributes. The yello around the diagonal suggests that attributes that are next to each other are generally more correlated with each other. The blue patches also suggest some moderate negative correlation the further attributes are away from each other in the ordering. This makes sense if the order of the attributes refers to the angle of sensors for the sonar chirp."
   ]
  },
  {
   "cell_type": "markdown",
   "metadata": {},
   "source": [
    "# Validation Dataset"
   ]
  },
  {
   "cell_type": "code",
   "execution_count": 296,
   "metadata": {},
   "outputs": [],
   "source": [
    "# Split-out validation dataset \n",
    "\n",
    "array = df.values\n",
    "X = array[:,0:60].astype(float) \n",
    "Y = array[:,60] \n",
    "validation_size = 0.20 \n",
    "seed = 7\n",
    "X_train, X_validation, Y_train, Y_validation = train_test_split(X, Y, test_size=validation_size, random_state=seed)\n"
   ]
  },
  {
   "cell_type": "markdown",
   "metadata": {},
   "source": [
    "## Evaluate Algorithms: Baseline"
   ]
  },
  {
   "cell_type": "code",
   "execution_count": 297,
   "metadata": {},
   "outputs": [],
   "source": [
    "# Test options and evaluation metric\n",
    "\n",
    "num_folds = 10 \n",
    "seed = 7 \n",
    "scoring = 'accuracy'"
   ]
  },
  {
   "cell_type": "markdown",
   "metadata": {},
   "source": [
    "We don’t know what algorithms will do well on this dataset. Gut feel suggests distance based algorithms like k-Nearest Neighbors and Support Vector Machines may do well. Let’s design our test harness. We will use 10-fold cross validation. The dataset is not too small and this is a good standard test harness conﬁguration. We will evaluate algorithms using the accuracy metric. This is a gross metric that will give a quick idea of how correct a given model is. More useful on binary classiﬁcation problems like this one."
   ]
  },
  {
   "cell_type": "code",
   "execution_count": 298,
   "metadata": {},
   "outputs": [],
   "source": [
    "# Spot-Check Algorithms \n",
    "models = [] \n",
    "models.append(('LR', LogisticRegression()))\n",
    "models.append(('LDA', LinearDiscriminantAnalysis())) \n",
    "models.append(('KNN', KNeighborsClassifier())) \n",
    "models.append(('CART', DecisionTreeClassifier()))\n",
    "models.append(('NB', GaussianNB())) \n",
    "models.append(('SVM', SVC()))\n",
    "\n"
   ]
  },
  {
   "cell_type": "markdown",
   "metadata": {},
   "source": [
    "The algorithms all use default tuning parameters. Let’s compare the algorithms. We will display the mean and standard deviation of accuracy for each algorithm as we calculate it and collect the results for use later."
   ]
  },
  {
   "cell_type": "code",
   "execution_count": 299,
   "metadata": {},
   "outputs": [
    {
     "name": "stdout",
     "output_type": "stream",
     "text": [
      "('LR', 0.7827205882352941, 0.09379612475487001)\n",
      "('LDA', 0.7463235294117647, 0.11785367885381073)\n",
      "('KNN', 0.8080882352941176, 0.06750704820308338)\n",
      "('CART', 0.6988970588235295, 0.08163834528219703)\n",
      "('NB', 0.6488970588235294, 0.1418684214516758)\n",
      "('SVM', 0.6088235294117647, 0.1186560591820866)\n"
     ]
    }
   ],
   "source": [
    "results = [] \n",
    "names = [] \n",
    "for name, model in models: \n",
    "    kfold = KFold(n_splits=num_folds, random_state=seed)\n",
    "    cv_results = cross_val_score(model, X_train, Y_train, cv=kfold, scoring=scoring) \n",
    "    results.append(cv_results) \n",
    "    names.append(name) \n",
    "    msg=(name, cv_results.mean(), cv_results.std())\n",
    "    print(msg)"
   ]
  },
  {
   "cell_type": "markdown",
   "metadata": {},
   "source": [
    " The results suggest That both Logistic Regression and k-Nearest Neighbors may be worth further study"
   ]
  },
  {
   "cell_type": "markdown",
   "metadata": {},
   "source": [
    "These are just mean accuracy values. It is always wise to look at the distribution of accuracy values calculated across cross validation folds. We can do that graphically using box and whisker plots.\n"
   ]
  },
  {
   "cell_type": "code",
   "execution_count": 300,
   "metadata": {},
   "outputs": [
    {
     "data": {
      "image/png": "[encoded data removed]",
      "text/plain": [
       "<Figure size 432x288 with 1 Axes>"
      ]
     },
     "metadata": {},
     "output_type": "display_data"
    }
   ],
   "source": [
    "# Compare Algorithms\n",
    "\n",
    "fig=plt.figure()\n",
    "fig.suptitle('Algorithm Accuracy')\n",
    "ax=fig.add_subplot(111)\n",
    "plt.boxplot(results)\n",
    "ax.set_xticklabels(names)\n",
    "plt.show()"
   ]
  },
  {
   "cell_type": "markdown",
   "metadata": {},
   "source": [
    "The results show a tight distribution for KNN which is encouraging, suggesting low variance. The poor results for SVM are surprising.It is possible that the varied distribution of the attributes is having an eﬀect on the accuracy of algorithms such as SVM. In the next section we will repeat this spot-check with a standardized copy of the training dataset.\n"
   ]
  },
  {
   "cell_type": "markdown",
   "metadata": {},
   "source": [
    "## Evaluate Algorithms: Standardize Data"
   ]
  },
  {
   "cell_type": "markdown",
   "metadata": {},
   "source": [
    "We suspect that the diﬀering distributions of the raw data may be negatively impacting the skill of some of the algorithms. Let’s evaluate the same algorithms with a standardized copy of the dataset. This is where the data is transformed such that each attribute has a mean value of zero and a standard deviation of one. We also need to avoid data leakage when we transform the data. A good way to avoid leakage is to use pipelines that standardize the data and build the model for each fold in the cross validation test harness. That way we can get a fair estimation of how each model with standardized data might perform on unseen data.\n"
   ]
  },
  {
   "cell_type": "code",
   "execution_count": 301,
   "metadata": {},
   "outputs": [
    {
     "name": "stdout",
     "output_type": "stream",
     "text": [
      "('ScaledLR', 0.7341911764705882, 0.09588542601535087)\n",
      "('ScaledLDA', 0.7463235294117647, 0.11785367885381073)\n",
      "('ScaledKNN', 0.8257352941176471, 0.054511038214266574)\n",
      "('ScaledCART', 0.7235294117647059, 0.12146604819887695)\n",
      "('ScaledNB', 0.6488970588235294, 0.1418684214516758)\n",
      "('ScaledSVM', 0.8363970588235293, 0.08869747214968386)\n"
     ]
    }
   ],
   "source": [
    "# Standardize the dataset\n",
    "\n",
    "pipelines = []\n",
    "pipelines.append(('ScaledLR', Pipeline([('Scaler', StandardScaler()),('LR', LogisticRegression())])))\n",
    "pipelines.append(('ScaledLDA', Pipeline([('Scaler', StandardScaler()),('LDA', LinearDiscriminantAnalysis())])))\n",
    "pipelines.append(('ScaledKNN', Pipeline([('Scaler', StandardScaler()),('KNN', KNeighborsClassifier())]))) \n",
    "pipelines.append(('ScaledCART', Pipeline([('Scaler', StandardScaler()),('CART', DecisionTreeClassifier())])))\n",
    "pipelines.append(('ScaledNB', Pipeline([('Scaler', StandardScaler()),('NB', GaussianNB())]))) \n",
    "pipelines.append(('ScaledSVM', Pipeline([('Scaler', StandardScaler()),('SVM', SVC())])))\n",
    "\n",
    "results = [] \n",
    "names = [] \n",
    "for name, model in pipelines: \n",
    "    kfold = KFold(n_splits=num_folds, random_state=seed) \n",
    "    cv_results = cross_val_score(model, X_train, Y_train, cv=kfold, scoring=scoring) \n",
    "    results.append(cv_results) \n",
    "    names.append(name)\n",
    "    msg =(name, cv_results.mean(), cv_results.std())\n",
    "    print(msg)\n",
    "    \n",
    "\n",
    "\n"
   ]
  },
  {
   "cell_type": "markdown",
   "metadata": {},
   "source": [
    "We can see that KNN is still doing well, even better than before. We can also see that the standardization of the data has lifted the skill of SVM to be the most accurate algorithm tested so far.\n"
   ]
  },
  {
   "cell_type": "code",
   "execution_count": 302,
   "metadata": {},
   "outputs": [
    {
     "data": {
      "image/png": "[encoded data removed]",
      "text/plain": [
       "<Figure size 432x288 with 1 Axes>"
      ]
     },
     "metadata": {},
     "output_type": "display_data"
    }
   ],
   "source": [
    "# Compare Algorithms\n",
    "\n",
    "fig=plt.figure()\n",
    "fig.suptitle('scaled Algorithm Accuracy')\n",
    "ax=fig.add_subplot(111)\n",
    "plt.boxplot(results)\n",
    "ax.set_xticklabels(names)\n",
    "plt.show()"
   ]
  },
  {
   "cell_type": "markdown",
   "metadata": {},
   "source": [
    "The results suggest digging deeper into the SVM and KNN algorithms. It is very likely that conﬁguration beyond the default may yield even more accurate models."
   ]
  },
  {
   "cell_type": "markdown",
   "metadata": {},
   "source": [
    "## Algorithm Tuning"
   ]
  },
  {
   "cell_type": "markdown",
   "metadata": {},
   "source": [
    "In this section we investigate tuning the parameters for two algorithms that show promise from the spot-checking in the previous section: KNN and SVM.\n"
   ]
  },
  {
   "cell_type": "markdown",
   "metadata": {},
   "source": [
    "### Tuning KNN"
   ]
  },
  {
   "cell_type": "markdown",
   "metadata": {},
   "source": [
    "We can start oﬀ by tuning the number of neighbors for KNN. The default number of neighbors is 7. Below we try all odd values of k from 1 to 21, covering the default value of 7. Each k value is evaluated using 10-fold cross validation on the training standardized dataset."
   ]
  },
  {
   "cell_type": "code",
   "execution_count": 306,
   "metadata": {},
   "outputs": [
    {
     "name": "stdout",
     "output_type": "stream",
     "text": [
      "0.8493975903614458 {'n_neighbors': 1}\n",
      "\n",
      "\n",
      "0.8493975903614458 0.05988110090069771 {'n_neighbors': 1}\n",
      "0.8373493975903614 0.06630330382796286 {'n_neighbors': 3}\n",
      "0.8373493975903614 0.03749969758430342 {'n_neighbors': 5}\n",
      "0.7650602409638554 0.08950992596280488 {'n_neighbors': 7}\n",
      "0.7530120481927711 0.08697897949491253 {'n_neighbors': 9}\n",
      "0.7349397590361446 0.10489007400824805 {'n_neighbors': 11}\n",
      "0.7349397590361446 0.10583597849547675 {'n_neighbors': 13}\n",
      "0.7289156626506024 0.07587309410809662 {'n_neighbors': 15}\n",
      "0.7108433734939759 0.07871598186667497 {'n_neighbors': 17}\n",
      "0.7228915662650602 0.08455537779041811 {'n_neighbors': 19}\n",
      "0.7108433734939759 0.10882920638633953 {'n_neighbors': 21}\n"
     ]
    }
   ],
   "source": [
    "# Tune scaled KNN\n",
    "\n",
    "scaler=StandardScaler().fit(X_train)\n",
    "rescaledX=scaler.transform(X_train)\n",
    "neighbors=[1,3,5,7,9,11,13,15,17,19,21]\n",
    "param_grid=dict(n_neighbors=neighbors)\n",
    "model=KNeighborsClassifier()\n",
    "kfold=KFold(n_splits=num_fold,random_state=seed)\n",
    "grid=GridSearchCV(model,param_grid=param_grid,cv=kfold,scoring=scoring)\n",
    "grid_result=grid.fit(rescaledX,Y_train)\n",
    "print(grid_result.best_score_,grid_result.best_params_)\n",
    "print(\"\\n\")\n",
    "\n",
    "mean=grid_result.cv_results_['mean_test_score']\n",
    "std=grid_result.cv_results_['std_test_score']\n",
    "param=grid_result.cv_results_['params']\n",
    "\n",
    "for mean,std,param in zip(mean,std,param):\n",
    "    print(mean,std,param)\n"
   ]
  },
  {
   "cell_type": "markdown",
   "metadata": {},
   "source": [
    "We can see that the optimal conﬁguration is K=1. This is interesting as the algorithm will make predictions using the most similar instance in the training dataset alone.\n"
   ]
  },
  {
   "cell_type": "markdown",
   "metadata": {},
   "source": [
    "### Tuning SVM"
   ]
  },
  {
   "cell_type": "markdown",
   "metadata": {},
   "source": [
    "We can tune two key parameters of the SVM algorithm, the value of C (how much to relax the margin) and the type of kernel. The default for SVM (the SVC class) is to use the Radial Basis Function (RBF) kernel with a C value set to 1.0. Like with KNN, we will perform a grid search using 10-fold cross validation with a standardized copy of the training dataset. We will try a number of simpler kernel types and C values with less bias and more bias (less than and more than 1.0 respectively)."
   ]
  },
  {
   "cell_type": "code",
   "execution_count": 307,
   "metadata": {},
   "outputs": [
    {
     "name": "stdout",
     "output_type": "stream",
     "text": [
      "0.8674698795180723 {'C': 1.5, 'kernel': 'rbf'}\n",
      "\n",
      "\n",
      "0.7590361445783133 0.09886327405671058 {'C': 0.1, 'kernel': 'linear'}\n",
      "0.5301204819277109 0.11878006022028104 {'C': 0.1, 'kernel': 'poly'}\n",
      "0.572289156626506 0.13033853327360725 {'C': 0.1, 'kernel': 'rbf'}\n",
      "0.7048192771084337 0.0663596226254967 {'C': 0.1, 'kernel': 'sigmoid'}\n",
      "0.7469879518072289 0.10891253844857184 {'C': 0.3, 'kernel': 'linear'}\n",
      "0.6445783132530121 0.13229030877107076 {'C': 0.3, 'kernel': 'poly'}\n",
      "0.7650602409638554 0.09231152338173192 {'C': 0.3, 'kernel': 'rbf'}\n",
      "0.7349397590361446 0.05463116375770295 {'C': 0.3, 'kernel': 'sigmoid'}\n",
      "0.7409638554216867 0.08303483150783184 {'C': 0.5, 'kernel': 'linear'}\n",
      "0.6807228915662651 0.09863764643656386 {'C': 0.5, 'kernel': 'poly'}\n",
      "0.7891566265060241 0.06431559978182318 {'C': 0.5, 'kernel': 'rbf'}\n",
      "0.7469879518072289 0.059265219662503005 {'C': 0.5, 'kernel': 'sigmoid'}\n",
      "0.7469879518072289 0.08452539277350771 {'C': 0.7, 'kernel': 'linear'}\n",
      "0.7409638554216867 0.12796044734796017 {'C': 0.7, 'kernel': 'poly'}\n",
      "0.8132530120481928 0.08488608565008864 {'C': 0.7, 'kernel': 'rbf'}\n",
      "0.7530120481927711 0.05851304648466163 {'C': 0.7, 'kernel': 'sigmoid'}\n",
      "0.7590361445783133 0.0969403988702124 {'C': 0.9, 'kernel': 'linear'}\n",
      "0.7710843373493976 0.10212654204939915 {'C': 0.9, 'kernel': 'poly'}\n",
      "0.8373493975903614 0.08785351487461503 {'C': 0.9, 'kernel': 'rbf'}\n",
      "0.7530120481927711 0.0737508725947764 {'C': 0.9, 'kernel': 'sigmoid'}\n",
      "0.7530120481927711 0.09922966507923357 {'C': 1.0, 'kernel': 'linear'}\n",
      "0.7891566265060241 0.10760124164941035 {'C': 1.0, 'kernel': 'poly'}\n",
      "0.8373493975903614 0.08785351487461503 {'C': 1.0, 'kernel': 'rbf'}\n",
      "0.7530120481927711 0.07021253951611289 {'C': 1.0, 'kernel': 'sigmoid'}\n",
      "0.7710843373493976 0.1060626460103032 {'C': 1.3, 'kernel': 'linear'}\n",
      "0.8192771084337349 0.10641428026190228 {'C': 1.3, 'kernel': 'poly'}\n",
      "0.8493975903614458 0.0799904226717884 {'C': 1.3, 'kernel': 'rbf'}\n",
      "0.7108433734939759 0.07686539813119345 {'C': 1.3, 'kernel': 'sigmoid'}\n",
      "0.7590361445783133 0.09177665690741682 {'C': 1.5, 'kernel': 'linear'}\n",
      "0.8313253012048193 0.10949896098567918 {'C': 1.5, 'kernel': 'poly'}\n",
      "0.8674698795180723 0.09088262174597157 {'C': 1.5, 'kernel': 'rbf'}\n",
      "0.7409638554216867 0.06371745723284991 {'C': 1.5, 'kernel': 'sigmoid'}\n",
      "0.7469879518072289 0.09022846345090922 {'C': 1.7, 'kernel': 'linear'}\n",
      "0.8313253012048193 0.11569489827740086 {'C': 1.7, 'kernel': 'poly'}\n",
      "0.8614457831325302 0.08769086948685412 {'C': 1.7, 'kernel': 'rbf'}\n",
      "0.7108433734939759 0.08814007112072615 {'C': 1.7, 'kernel': 'sigmoid'}\n",
      "0.7590361445783133 0.09427645745320859 {'C': 2.0, 'kernel': 'linear'}\n",
      "0.8313253012048193 0.10827859206120853 {'C': 2.0, 'kernel': 'poly'}\n",
      "0.8674698795180723 0.09470146861189553 {'C': 2.0, 'kernel': 'rbf'}\n",
      "0.7289156626506024 0.09505021599393057 {'C': 2.0, 'kernel': 'sigmoid'}\n"
     ]
    }
   ],
   "source": [
    "# Tune scaled SVM\n",
    "\n",
    "scaler=StandardScaler().fit(X_train)\n",
    "rescaledX=scaler.transform(X_train)\n",
    "c_values=[0.1, 0.3, 0.5, 0.7, 0.9, 1.0, 1.3, 1.5, 1.7, 2.0]\n",
    "kernel_values=['linear','poly','rbf','sigmoid']\n",
    "param_grid=dict(C=c_values,kernel=kernel_values)\n",
    "model=SVC()\n",
    "kfold=KFold(n_splits=num_folds,random_state=seed)\n",
    "grid=GridSearchCV(estimator=model,param_grid=param_grid,cv=kfold,scoring=scoring)\n",
    "grid_result=grid.fit(rescaledX,Y_train)\n",
    "print(grid_result.best_score_,grid_result.best_params_)\n",
    "print(\"\\n\")\n",
    "\n",
    "mean=grid_result.cv_results_['mean_test_score']\n",
    "std=grid_result.cv_results_['std_test_score']\n",
    "param=grid_result.cv_results_['params']\n",
    "\n",
    "for mean,std,param in zip(mean,std,param):\n",
    "    print(mean,std,param)\n"
   ]
  },
  {
   "cell_type": "markdown",
   "metadata": {},
   "source": [
    "We can see the most accurate conﬁguration was SVM with an RBF kernel and a C value of 1.5. The accuracy 86.7470% is seemingly better than what KNN could achieve."
   ]
  },
  {
   "cell_type": "markdown",
   "metadata": {},
   "source": [
    "## Ensemble Methods"
   ]
  },
  {
   "cell_type": "markdown",
   "metadata": {},
   "source": [
    "Another way that we can improve the performance of algorithms on this problem is by using ensemble methods.We will use the same test harness as before, 10-fold cross validation. No data standardization is used in this case because all four ensemble algorithms are based on decision trees that are less sensitive to data distributions."
   ]
  },
  {
   "cell_type": "code",
   "execution_count": 313,
   "metadata": {},
   "outputs": [
    {
     "name": "stdout",
     "output_type": "stream",
     "text": [
      "('AB', 0.8139705882352942, 0.06601696463316956)\n",
      "('GBM', 0.8419117647058822, 0.10312483616428214)\n",
      "('RFC', 0.7216911764705882, 0.14041085675178977)\n",
      "('extraTree', 0.8180147058823529, 0.07980990200769268)\n"
     ]
    }
   ],
   "source": [
    "# ensembles\n",
    "\n",
    "ensembles=[]\n",
    "\n",
    "ensembles.append(('AB',AdaBoostClassifier()))\n",
    "ensembles.append(('GBM',GradientBoostingClassifier()))\n",
    "ensembles.append(('RFC',RandomForestClassifier()))\n",
    "ensembles.append(('extraTree',ExtraTreesClassifier()))\n",
    "\n",
    "results=[]\n",
    "names=[]\n",
    "\n",
    "for name,model in ensembles:\n",
    "    kfold=KFold(n_splits=num_folds,random_state=seed)\n",
    "    cv_result=cross_val_score(model,X_train,Y_train,cv=kfold,scoring=scoring)\n",
    "    results.append(cv_result)\n",
    "    names.append(name)\n",
    "    msg=(name,cv_result.mean(),cv_result.std())\n",
    "    print(msg)"
   ]
  },
  {
   "cell_type": "markdown",
   "metadata": {},
   "source": [
    "We can see that both boosting techniques provide strong accuracy scores in the low 80s (%) with default conﬁgurations. We can plot the distribution of accuracy scores across the cross validation folds.\n"
   ]
  },
  {
   "cell_type": "code",
   "execution_count": 315,
   "metadata": {},
   "outputs": [
    {
     "data": {
      "image/png": "[encoded data removed]",
      "text/plain": [
       "<Figure size 432x288 with 1 Axes>"
      ]
     },
     "metadata": {},
     "output_type": "display_data"
    }
   ],
   "source": [
    "# Compare Algorithms\n",
    "\n",
    "fig=plt.figure()\n",
    "fig.suptitle('Ensembled Algorithm score')\n",
    "ax=fig.add_subplot(111)\n",
    "plt.boxplot(results)\n",
    "ax.set_xticklabels(names)\n",
    "plt.show()"
   ]
  },
  {
   "cell_type": "markdown",
   "metadata": {},
   "source": [
    "The results suggest GBM may be worthy of further study, with a strong mean and a spread that skews up towards high 90s (%) in accuracy."
   ]
  },
  {
   "cell_type": "markdown",
   "metadata": {},
   "source": [
    "# Finalize Model"
   ]
  },
  {
   "cell_type": "markdown",
   "metadata": {},
   "source": [
    "The SVM showed the most promise as a low complexity and stable model for this problem. In this section we will ﬁnalize the model by training it on the entire training dataset and make predictions for the hold-out validation dataset to conﬁrm our ﬁndings. A part of the ﬁndings was that SVM performs better when the dataset is standardized so that all attributes have a mean value of zero and a standard deviation of one. We can calculate this from the entire training dataset and apply the same transform to the input attributes from the validation dataset."
   ]
  },
  {
   "cell_type": "code",
   "execution_count": 319,
   "metadata": {},
   "outputs": [
    {
     "name": "stdout",
     "output_type": "stream",
     "text": [
      "0.8571428571428571\n",
      "\n",
      "\n",
      "[[23  4]\n",
      " [ 2 13]]\n",
      "\n",
      "\n",
      "             precision    recall  f1-score   support\n",
      "\n",
      "          M       0.92      0.85      0.88        27\n",
      "          R       0.76      0.87      0.81        15\n",
      "\n",
      "avg / total       0.86      0.86      0.86        42\n",
      "\n"
     ]
    }
   ],
   "source": [
    "# prepare the model\n",
    "\n",
    "scaler=StandardScaler().fit(X_train)\n",
    "rescaledX=scaler.transform(X_train)\n",
    "model=SVC(C=1.5)\n",
    "model.fit(rescaledX,Y_train)\n",
    "\n",
    "# estimate accuracy on validation dataset\n",
    "\n",
    "rescaledvalidationX=scaler.transform(X_validation)\n",
    "prediction=model.predict(rescaledvalidationX)\n",
    "print(accuracy_score(Y_validation,prediction))\n",
    "print('\\n')\n",
    "print(confusion_matrix(Y_validation,prediction))\n",
    "print('\\n')\n",
    "print(classification_report(Y_validation,prediction))\n",
    "\n",
    "\n",
    "\n"
   ]
  },
  {
   "cell_type": "code",
   "execution_count": null,
   "metadata": {},
   "outputs": [],
   "source": []
  }
 ],
 "metadata": {
  "kernelspec": {
   "display_name": "Python 3",
   "language": "python",
   "name": "python3"
  },
  "language_info": {
   "codemirror_mode": {
    "name": "ipython",
    "version": 3
   },
   "file_extension": ".py",
   "mimetype": "text/x-python",
   "name": "python",
   "nbconvert_exporter": "python",
   "pygments_lexer": "ipython3",
   "version": "3.6.5"
  }
 },
 "nbformat": 4,
 "nbformat_minor": 2
}
