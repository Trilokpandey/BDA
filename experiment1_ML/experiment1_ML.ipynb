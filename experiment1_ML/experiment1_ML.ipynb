{
 "cells": [
  {
   "cell_type": "code",
   "execution_count": 197,
   "metadata": {},
   "outputs": [
    {
     "data": {
      "text/html": [
       "<div>\n",
       "<style scoped>\n",
       "    .dataframe tbody tr th:only-of-type {\n",
       "        vertical-align: middle;\n",
       "    }\n",
       "\n",
       "    .dataframe tbody tr th {\n",
       "        vertical-align: top;\n",
       "    }\n",
       "\n",
       "    .dataframe thead th {\n",
       "        text-align: right;\n",
       "    }\n",
       "</style>\n",
       "<table border=\"1\" class=\"dataframe\">\n",
       "  <thead>\n",
       "    <tr style=\"text-align: right;\">\n",
       "      <th></th>\n",
       "      <th>sepal_length</th>\n",
       "      <th>sepal_width</th>\n",
       "      <th>petal_length</th>\n",
       "      <th>petal_width</th>\n",
       "      <th>class_type</th>\n",
       "    </tr>\n",
       "  </thead>\n",
       "  <tbody>\n",
       "    <tr>\n",
       "      <th>0</th>\n",
       "      <td>5.1</td>\n",
       "      <td>3.5</td>\n",
       "      <td>1.4</td>\n",
       "      <td>0.2</td>\n",
       "      <td>Iris-setosa</td>\n",
       "    </tr>\n",
       "    <tr>\n",
       "      <th>1</th>\n",
       "      <td>4.9</td>\n",
       "      <td>3.0</td>\n",
       "      <td>1.4</td>\n",
       "      <td>0.2</td>\n",
       "      <td>Iris-setosa</td>\n",
       "    </tr>\n",
       "    <tr>\n",
       "      <th>2</th>\n",
       "      <td>4.7</td>\n",
       "      <td>3.2</td>\n",
       "      <td>1.3</td>\n",
       "      <td>0.2</td>\n",
       "      <td>Iris-setosa</td>\n",
       "    </tr>\n",
       "    <tr>\n",
       "      <th>3</th>\n",
       "      <td>4.6</td>\n",
       "      <td>3.1</td>\n",
       "      <td>1.5</td>\n",
       "      <td>0.2</td>\n",
       "      <td>Iris-setosa</td>\n",
       "    </tr>\n",
       "    <tr>\n",
       "      <th>4</th>\n",
       "      <td>5.0</td>\n",
       "      <td>3.6</td>\n",
       "      <td>1.4</td>\n",
       "      <td>0.2</td>\n",
       "      <td>Iris-setosa</td>\n",
       "    </tr>\n",
       "    <tr>\n",
       "      <th>5</th>\n",
       "      <td>5.4</td>\n",
       "      <td>3.9</td>\n",
       "      <td>1.7</td>\n",
       "      <td>0.4</td>\n",
       "      <td>Iris-setosa</td>\n",
       "    </tr>\n",
       "    <tr>\n",
       "      <th>6</th>\n",
       "      <td>4.6</td>\n",
       "      <td>3.4</td>\n",
       "      <td>1.4</td>\n",
       "      <td>0.3</td>\n",
       "      <td>Iris-setosa</td>\n",
       "    </tr>\n",
       "    <tr>\n",
       "      <th>7</th>\n",
       "      <td>5.0</td>\n",
       "      <td>3.4</td>\n",
       "      <td>1.5</td>\n",
       "      <td>0.2</td>\n",
       "      <td>Iris-setosa</td>\n",
       "    </tr>\n",
       "    <tr>\n",
       "      <th>8</th>\n",
       "      <td>4.4</td>\n",
       "      <td>2.9</td>\n",
       "      <td>1.4</td>\n",
       "      <td>0.2</td>\n",
       "      <td>Iris-setosa</td>\n",
       "    </tr>\n",
       "    <tr>\n",
       "      <th>9</th>\n",
       "      <td>4.9</td>\n",
       "      <td>3.1</td>\n",
       "      <td>1.5</td>\n",
       "      <td>0.1</td>\n",
       "      <td>Iris-setosa</td>\n",
       "    </tr>\n",
       "    <tr>\n",
       "      <th>10</th>\n",
       "      <td>5.4</td>\n",
       "      <td>3.7</td>\n",
       "      <td>1.5</td>\n",
       "      <td>0.2</td>\n",
       "      <td>Iris-setosa</td>\n",
       "    </tr>\n",
       "    <tr>\n",
       "      <th>11</th>\n",
       "      <td>4.8</td>\n",
       "      <td>3.4</td>\n",
       "      <td>1.6</td>\n",
       "      <td>0.2</td>\n",
       "      <td>Iris-setosa</td>\n",
       "    </tr>\n",
       "    <tr>\n",
       "      <th>12</th>\n",
       "      <td>4.8</td>\n",
       "      <td>3.0</td>\n",
       "      <td>1.4</td>\n",
       "      <td>0.1</td>\n",
       "      <td>Iris-setosa</td>\n",
       "    </tr>\n",
       "    <tr>\n",
       "      <th>13</th>\n",
       "      <td>4.3</td>\n",
       "      <td>3.0</td>\n",
       "      <td>1.1</td>\n",
       "      <td>0.1</td>\n",
       "      <td>Iris-setosa</td>\n",
       "    </tr>\n",
       "    <tr>\n",
       "      <th>14</th>\n",
       "      <td>5.8</td>\n",
       "      <td>4.0</td>\n",
       "      <td>1.2</td>\n",
       "      <td>0.2</td>\n",
       "      <td>Iris-setosa</td>\n",
       "    </tr>\n",
       "    <tr>\n",
       "      <th>15</th>\n",
       "      <td>5.7</td>\n",
       "      <td>4.4</td>\n",
       "      <td>1.5</td>\n",
       "      <td>0.4</td>\n",
       "      <td>Iris-setosa</td>\n",
       "    </tr>\n",
       "    <tr>\n",
       "      <th>16</th>\n",
       "      <td>5.4</td>\n",
       "      <td>3.9</td>\n",
       "      <td>1.3</td>\n",
       "      <td>0.4</td>\n",
       "      <td>Iris-setosa</td>\n",
       "    </tr>\n",
       "    <tr>\n",
       "      <th>17</th>\n",
       "      <td>5.1</td>\n",
       "      <td>3.5</td>\n",
       "      <td>1.4</td>\n",
       "      <td>0.3</td>\n",
       "      <td>Iris-setosa</td>\n",
       "    </tr>\n",
       "    <tr>\n",
       "      <th>18</th>\n",
       "      <td>5.7</td>\n",
       "      <td>3.8</td>\n",
       "      <td>1.7</td>\n",
       "      <td>0.3</td>\n",
       "      <td>Iris-setosa</td>\n",
       "    </tr>\n",
       "    <tr>\n",
       "      <th>19</th>\n",
       "      <td>5.1</td>\n",
       "      <td>3.8</td>\n",
       "      <td>1.5</td>\n",
       "      <td>0.3</td>\n",
       "      <td>Iris-setosa</td>\n",
       "    </tr>\n",
       "  </tbody>\n",
       "</table>\n",
       "</div>"
      ],
      "text/plain": [
       "    sepal_length  sepal_width   petal_length  petal_width   class_type\n",
       "0            5.1          3.5            1.4          0.2  Iris-setosa\n",
       "1            4.9          3.0            1.4          0.2  Iris-setosa\n",
       "2            4.7          3.2            1.3          0.2  Iris-setosa\n",
       "3            4.6          3.1            1.5          0.2  Iris-setosa\n",
       "4            5.0          3.6            1.4          0.2  Iris-setosa\n",
       "5            5.4          3.9            1.7          0.4  Iris-setosa\n",
       "6            4.6          3.4            1.4          0.3  Iris-setosa\n",
       "7            5.0          3.4            1.5          0.2  Iris-setosa\n",
       "8            4.4          2.9            1.4          0.2  Iris-setosa\n",
       "9            4.9          3.1            1.5          0.1  Iris-setosa\n",
       "10           5.4          3.7            1.5          0.2  Iris-setosa\n",
       "11           4.8          3.4            1.6          0.2  Iris-setosa\n",
       "12           4.8          3.0            1.4          0.1  Iris-setosa\n",
       "13           4.3          3.0            1.1          0.1  Iris-setosa\n",
       "14           5.8          4.0            1.2          0.2  Iris-setosa\n",
       "15           5.7          4.4            1.5          0.4  Iris-setosa\n",
       "16           5.4          3.9            1.3          0.4  Iris-setosa\n",
       "17           5.1          3.5            1.4          0.3  Iris-setosa\n",
       "18           5.7          3.8            1.7          0.3  Iris-setosa\n",
       "19           5.1          3.8            1.5          0.3  Iris-setosa"
      ]
     },
     "execution_count": 197,
     "metadata": {},
     "output_type": "execute_result"
    }
   ],
   "source": [
    "#LOADING of dataset through pandas\n",
    "\n",
    "\n",
    "import pandas as pd\n",
    "colname=['sepal_length','sepal_width',' petal_length','petal_width','class_type']\n",
    "df=pd.read_csv(\"F:/iris.csv\",names=colname)\n",
    "df.head(20)"
   ]
  },
  {
   "cell_type": "code",
   "execution_count": 198,
   "metadata": {},
   "outputs": [
    {
     "name": "stdout",
     "output_type": "stream",
     "text": [
      "(150, 5)\n"
     ]
    }
   ],
   "source": [
    "#UNDERSTANDING of data with discriptive statistics\n",
    "#2.1 dimension of dataset\n",
    "\n",
    "print(df.shape)"
   ]
  },
  {
   "cell_type": "code",
   "execution_count": 199,
   "metadata": {},
   "outputs": [
    {
     "name": "stdout",
     "output_type": "stream",
     "text": [
      "sepal_length     float64\n",
      "sepal_width      float64\n",
      " petal_length    float64\n",
      "petal_width      float64\n",
      "class_type        object\n",
      "dtype: object\n"
     ]
    }
   ],
   "source": [
    "#2.2 data type of each attribute of dataset\n",
    "\n",
    "print(df.dtypes)"
   ]
  },
  {
   "cell_type": "code",
   "execution_count": 200,
   "metadata": {},
   "outputs": [
    {
     "name": "stdout",
     "output_type": "stream",
     "text": [
      "       sepal_length  sepal_width   petal_length  petal_width\n",
      "count       150.000      150.000        150.000      150.000\n",
      "mean          5.843        3.054          3.759        1.199\n",
      "std           0.828        0.434          1.764        0.763\n",
      "min           4.300        2.000          1.000        0.100\n",
      "25%           5.100        2.800          1.600        0.300\n",
      "50%           5.800        3.000          4.350        1.300\n",
      "75%           6.400        3.300          5.100        1.800\n",
      "max           7.900        4.400          6.900        2.500\n"
     ]
    }
   ],
   "source": [
    "#2.3 discriptive statistics\n",
    "\n",
    "pd.set_option('display.width', 100)\n",
    "pd.set_option('precision', 3)\n",
    "print(df.describe())"
   ]
  },
  {
   "cell_type": "code",
   "execution_count": 201,
   "metadata": {},
   "outputs": [
    {
     "name": "stdout",
     "output_type": "stream",
     "text": [
      "class_type\n",
      "Iris-setosa        50\n",
      "Iris-versicolor    50\n",
      "Iris-virginica     50\n",
      "dtype: int64\n"
     ]
    }
   ],
   "source": [
    "#class distribution\n",
    "\n",
    "class_count=df.groupby('class_type').size()\n",
    "\n",
    "print(class_count)"
   ]
  },
  {
   "cell_type": "code",
   "execution_count": 202,
   "metadata": {},
   "outputs": [
    {
     "name": "stdout",
     "output_type": "stream",
     "text": [
      "               sepal_length  sepal_width   petal_length  petal_width\n",
      "sepal_length          1.000       -0.109          0.872        0.818\n",
      "sepal_width          -0.109        1.000         -0.421       -0.357\n",
      " petal_length         0.872       -0.421          1.000        0.963\n",
      "petal_width           0.818       -0.357          0.963        1.000\n"
     ]
    }
   ],
   "source": [
    "#correlation between attributes\n",
    "\n",
    "\n",
    "correlation=df.corr(method='pearson')\n",
    "\n",
    "print(correlation)"
   ]
  },
  {
   "cell_type": "markdown",
   "metadata": {},
   "source": [
    "The most common method for calculating correlation is Pearson’s Correlation Coeﬃcient, that assumes a normal distribution of the attributes involved.\n",
    "\n",
    "A correlation of -1 or 1 shows a full negative or positive correlation respectively.\n",
    "\n",
    "Whereas a value of 0 shows no correlation at all. \n",
    "\n",
    "Some machine learning algorithms like linear and logistic regression can suﬀer poor performance \n",
    "if there are highly correlated attributes in your dataset. \n",
    "\n",
    "The matrix lists all attributes across the top and down the side, to give correlation between all pairs of attributes (twice, because the matrix is symmetrical). \n",
    "\n",
    "You can see the diagonal line through the matrix from the top left to bottom right corners of the matrix shows perfect correlation of each attribute with itself."
   ]
  },
  {
   "cell_type": "code",
   "execution_count": 203,
   "metadata": {},
   "outputs": [
    {
     "name": "stdout",
     "output_type": "stream",
     "text": [
      "sepal_length     0.315\n",
      "sepal_width      0.334\n",
      " petal_length   -0.274\n",
      "petal_width     -0.105\n",
      "dtype: float64\n"
     ]
    }
   ],
   "source": [
    "#Skew of Univariate Distributions\n",
    "\n",
    "skew=df.skew()\n",
    "print(skew)"
   ]
  },
  {
   "cell_type": "markdown",
   "metadata": {},
   "source": [
    "Skew refers to a distribution that is assumed Gaussian (normal or bell curve) that is shifted or squashed in one direction or another.\n",
    "\n",
    "Many machine learning algorithms assume a Gaussian distribution. \n",
    "\n",
    "Knowing that an attribute has a skew may allow you to perform data preparation to correct the skew and later improve the accuracy of your models. \n",
    "\n",
    "The skew result show a positive (right) or negative (left) skew. Values closer to zero show less skew."
   ]
  },
  {
   "cell_type": "markdown",
   "metadata": {},
   "source": [
    "## understanding your data with visualization"
   ]
  },
  {
   "cell_type": "markdown",
   "metadata": {},
   "source": [
    "### Univariate Plots"
   ]
  },
  {
   "cell_type": "code",
   "execution_count": 204,
   "metadata": {},
   "outputs": [
    {
     "data": {
      "image/png": "[encoded data removed]",
      "text/plain": [
       "<Figure size 432x288 with 4 Axes>"
      ]
     },
     "metadata": {},
     "output_type": "display_data"
    }
   ],
   "source": [
    "# Univariate Histograms\n",
    "\n",
    "import matplotlib.pyplot as plt\n",
    "\n",
    "df.hist()\n",
    "\n",
    "plt.show()"
   ]
  },
  {
   "cell_type": "markdown",
   "metadata": {},
   "source": [
    "Histograms group data into bins and provide you a count of the number of observations in each bin. \n",
    "\n",
    "From the shape of the bins you can quickly get a feeling for whether an attribute is Gaussian, \n",
    "skewed or even has an exponential distribution. \n",
    "\n",
    "It can also help you see possible outliers.\n",
    "\n",
    "In above case ,sepal.length and sepal.width attributes may have a Gaussian or nearly Gaussian distribution. \n",
    "\n",
    "This is interesting because many machine learning techniques assume a Gaussian univariate distribution on the input variables.\n",
    "\n",
    "\n"
   ]
  },
  {
   "cell_type": "code",
   "execution_count": 205,
   "metadata": {},
   "outputs": [
    {
     "data": {
      "image/png": "[encoded data removed]",
      "text/plain": [
       "<Figure size 432x288 with 16 Axes>"
      ]
     },
     "metadata": {},
     "output_type": "display_data"
    }
   ],
   "source": [
    "# Univariate Density Plot\n",
    "\n",
    "df.plot(kind='density',subplots=True,layout=(4,4),sharex=False)\n",
    "\n",
    "plt.show()"
   ]
  },
  {
   "cell_type": "markdown",
   "metadata": {},
   "source": [
    "Density plots are another way of getting a quick idea of the distribution of each attribute.\n",
    "\n",
    "We can see the distribution for each attribute is clearer than the histograms.\n"
   ]
  },
  {
   "cell_type": "code",
   "execution_count": 206,
   "metadata": {},
   "outputs": [
    {
     "data": {
      "image/png": "[encoded data removed]",
      "text/plain": [
       "<Figure size 432x288 with 16 Axes>"
      ]
     },
     "metadata": {},
     "output_type": "display_data"
    }
   ],
   "source": [
    "# Box and Whisker Plots\n",
    "\n",
    "df.plot(kind='box',subplots=True,layout=(4,4),sharex=False,sharey=False)\n",
    "\n",
    "plt.show()"
   ]
  },
  {
   "cell_type": "markdown",
   "metadata": {},
   "source": [
    "Another useful way to review the distribution of each attribute is to use Box and Whisker Plots or boxplots for short. \n",
    "\n",
    "Boxplots summarize the distribution of each attribute, drawing a line for the median (middle value) and\n",
    "a box around the 25th and 75th percentiles (the middle 50% of the data).\n",
    "\n",
    "The whiskers give an idea of the spread of the data and dots outside of the whiskers show candidate outlier values (values that are 1.5 times greater than the size of spread of the middle 50% of the data).\n",
    "\n",
    "in above case,petal_length and petal_width appear quite skewed towards smaller values.\n"
   ]
  },
  {
   "cell_type": "markdown",
   "metadata": {},
   "source": [
    "### Multivariate Plots"
   ]
  },
  {
   "cell_type": "code",
   "execution_count": 207,
   "metadata": {},
   "outputs": [
    {
     "data": {
      "image/png": "[encoded data removed]",
      "text/plain": [
       "<Figure size 432x288 with 2 Axes>"
      ]
     },
     "metadata": {},
     "output_type": "display_data"
    }
   ],
   "source": [
    "# Correction Matrix Plot\n",
    "\n",
    "import numpy as np\n",
    "\n",
    "correlation=df.corr()\n",
    "\n",
    "#plot correlation matrix\n",
    "\n",
    "fig=plt.figure()\n",
    "ax=fig.add_subplot(111)\n",
    "cax=ax.matshow(correlation,vmin=-1,vmax=1)\n",
    "fig.colorbar(cax)\n",
    "\n",
    "ticks=np.arange(0,5,1)\n",
    "\n",
    "ax.set_xticks(ticks)\n",
    "ax.set_yticks(ticks)\n",
    "ax.set_xticklabels(colname)\n",
    "ax.set_yticklabels(colname)\n",
    "\n",
    "plt.show()\n"
   ]
  },
  {
   "cell_type": "markdown",
   "metadata": {},
   "source": [
    "Correlation gives an indication of how related the changes are between two variables.\n",
    "\n",
    "If two variables change in the same direction they are positively correlated.\n",
    "\n",
    "If they change in opposite directions together (one goes up, one goes down), then they are negatively correlated. \n",
    "\n",
    "You can calculate the correlation between each pair of attributes. This is called a correlation matrix.\n",
    "\n",
    "You can then plot the correlation matrix and get an idea of which variables have a high correlation with each other.\n",
    "\n",
    "This is useful to know, because some machine learning algorithms like linear and logistic regression can have poor performance if there are highly correlated input variables in your data.\n",
    "\n",
    "We can see that the matrix is symmetrical, i.e. the bottom left of the matrix is the same as the top right. \n",
    "\n",
    "This is useful as we can see two diﬀerent views on the same data in one plot.\n",
    "\n",
    "We can also see that each variable is perfectly positively correlated with each other (as you would have expected) in the diagonal line from top left to bottom right."
   ]
  },
  {
   "cell_type": "code",
   "execution_count": 208,
   "metadata": {},
   "outputs": [
    {
     "data": {
      "image/png": "[encoded data removed]",
      "text/plain": [
       "<Figure size 432x288 with 2 Axes>"
      ]
     },
     "metadata": {},
     "output_type": "display_data"
    }
   ],
   "source": [
    "# Correction Matrix Plot (generic)\n",
    "\n",
    "import numpy as np\n",
    "\n",
    "correlation=df.corr()\n",
    "\n",
    "# plot correlation matrix\n",
    "\n",
    "fig=plt.figure()\n",
    "ax=fig.add_subplot(111)\n",
    "cax=ax.matshow(correlation,vmin=-1,vmax=1)\n",
    "fig.colorbar(cax)\n",
    "plt.show()"
   ]
  },
  {
   "cell_type": "code",
   "execution_count": 209,
   "metadata": {},
   "outputs": [
    {
     "data": {
      "image/png": "[encoded data removed]",
      "text/plain": [
       "<Figure size 432x288 with 16 Axes>"
      ]
     },
     "metadata": {},
     "output_type": "display_data"
    }
   ],
   "source": [
    "# Scatterplot Matrix\n",
    "\n",
    "#from pandas.tools.plotting import scatter_matrix\n",
    "\n",
    "from pandas.plotting import scatter_matrix\n",
    "\n",
    "scatter_matrix(df)\n",
    "\n",
    "plt.show()"
   ]
  },
  {
   "cell_type": "markdown",
   "metadata": {},
   "source": [
    "A scatter plot shows the relationship between two variables as dots in two dimensions, one axis for each attribute. \n",
    "\n",
    "You can create a scatter plot for each pair of attributes in your data. \n",
    "\n",
    "Drawing all these scatter plots together is called a scatter plot matrix. \n",
    "\n",
    "Scatter plots are useful for spotting structured relationships between variables, like whether you could summarize the relationship between two variables with a line.\n",
    "\n",
    "Attributes with structured relationships may also be correlated and good candidates for removal from your dataset.\n",
    "\n",
    "Like the Correlation Matrix Plot above, the scatter plot matrix is symmetrical. This is useful to look at the pairwise relationships from diﬀerent perspectives. \n",
    "\n",
    "Because there is little point of drawing a scatter plot of each variable with itself, the diagonal shows histograms of each attribute."
   ]
  },
  {
   "cell_type": "markdown",
   "metadata": {},
   "source": [
    "## prepare your data for ML"
   ]
  },
  {
   "cell_type": "code",
   "execution_count": 210,
   "metadata": {},
   "outputs": [
    {
     "name": "stdout",
     "output_type": "stream",
     "text": [
      "[[0.222 0.625 0.068 0.042]\n",
      " [0.167 0.417 0.068 0.042]\n",
      " [0.111 0.5   0.051 0.042]\n",
      " [0.083 0.458 0.085 0.042]\n",
      " [0.194 0.667 0.068 0.042]]\n"
     ]
    },
    {
     "name": "stderr",
     "output_type": "stream",
     "text": [
      "C:\\Users\\sonu\\Anaconda3\\lib\\site-packages\\sklearn\\utils\\validation.py:475: DataConversionWarning: Data with input dtype object was converted to float64 by MinMaxScaler.\n",
      "  warnings.warn(msg, DataConversionWarning)\n"
     ]
    }
   ],
   "source": [
    "## Rescale data (between 0 and 1)\n",
    "\n",
    "from numpy import set_printoptions\n",
    "\n",
    "from sklearn.preprocessing import MinMaxScaler\n",
    "\n",
    "array=df.values\n",
    "\n",
    "# separate array into input and output components\n",
    "\n",
    "X=array[:,0:4]\n",
    "Y=array[:,4]\n",
    "\n",
    "scalar=MinMaxScaler(feature_range=(0,1))\n",
    "rescaledX=scalar.fit_transform(X)\n",
    "\n",
    "#summarize transformed data\n",
    "\n",
    "set_printoptions(precision=3)\n",
    "\n",
    "print(rescaledX[0:5,:])\n"
   ]
  },
  {
   "cell_type": "markdown",
   "metadata": {},
   "source": [
    "When your data is comprised of attributes with varying scales, many machine learning algorithms can beneﬁt from rescaling the attributes to all have the same scale.\n",
    "\n",
    "Often this is referred to as normalization and attributes are often rescaled into the range between 0 and 1. \n",
    "\n",
    "This is useful for optimization algorithms used in the core of machine learning algorithms like gradient descent.\n",
    "\n",
    "It is also useful for algorithms that weight inputs like regression and neural networks and algorithms that use distance measures like k-Nearest Neighbors. \n",
    "\n",
    "You can rescale your data using scikit-learn using the MinMaxScaler class.\n",
    "\n",
    "In above case, After rescaling you can see that all of the values are in the range between 0 and 1.."
   ]
  },
  {
   "cell_type": "code",
   "execution_count": 211,
   "metadata": {},
   "outputs": [
    {
     "name": "stdout",
     "output_type": "stream",
     "text": [
      "[[-0.901  1.032 -1.341 -1.313]\n",
      " [-1.143 -0.125 -1.341 -1.313]\n",
      " [-1.385  0.338 -1.398 -1.313]\n",
      " [-1.507  0.106 -1.284 -1.313]\n",
      " [-1.022  1.263 -1.341 -1.313]]\n"
     ]
    },
    {
     "name": "stderr",
     "output_type": "stream",
     "text": [
      "C:\\Users\\sonu\\Anaconda3\\lib\\site-packages\\sklearn\\utils\\validation.py:475: DataConversionWarning: Data with input dtype object was converted to float64 by StandardScaler.\n",
      "  warnings.warn(msg, DataConversionWarning)\n"
     ]
    }
   ],
   "source": [
    "## Standardize data (0 mean, 1 stdev)\n",
    "\n",
    "from sklearn.preprocessing import StandardScaler\n",
    "from numpy import set_printoptions\n",
    "\n",
    "array=df.values\n",
    "\n",
    "# separate array into input and output components\n",
    "\n",
    "X=array[:,0:4]\n",
    "Y=array[:,4]\n",
    "\n",
    "scaler=StandardScaler().fit(X)\n",
    "rescaledX=scaler.transform(X)\n",
    "\n",
    "# summarize transformed data\n",
    "\n",
    "set_printoptions(precision=3)\n",
    "\n",
    "print(rescaledX[0:5,:])\n"
   ]
  },
  {
   "cell_type": "markdown",
   "metadata": {},
   "source": [
    "Standardization is a useful technique to transform attributes with a Gaussian distribution and diﬀering means and standard deviations to a standard Gaussian distribution with a mean of 0 and a standard deviation of 1.\n",
    "\n",
    "It is most suitable for techniques that assume a Gaussian distribution in the input variables and work better with rescaled data, such as linear regression, logistic regression and linear discriminate analysis.\n",
    "\n",
    "You can standardize data using scikit-learn with the StandardScaler class."
   ]
  },
  {
   "cell_type": "code",
   "execution_count": 212,
   "metadata": {},
   "outputs": [
    {
     "name": "stdout",
     "output_type": "stream",
     "text": [
      "[[0.804 0.552 0.221 0.032]\n",
      " [0.828 0.507 0.237 0.034]\n",
      " [0.805 0.548 0.223 0.034]\n",
      " [0.8   0.539 0.261 0.035]\n",
      " [0.791 0.569 0.221 0.032]]\n"
     ]
    }
   ],
   "source": [
    "# Normalize data (length of 1)\n",
    "\n",
    "from sklearn.preprocessing import Normalizer\n",
    "from numpy import set_printoptions\n",
    "\n",
    "array=df.values\n",
    "\n",
    "# separate array into input and output components\n",
    "\n",
    "X=array[:,0:4]\n",
    "Y=array[:,4]\n",
    "\n",
    "scaler=Normalizer().fit(X)\n",
    "rescaledX=scaler.transform(X)\n",
    "\n",
    "# summarize transformed data\n",
    "\n",
    "set_printoptions(precision=3)\n",
    "\n",
    "print(rescaledX[0:5,:])"
   ]
  },
  {
   "cell_type": "markdown",
   "metadata": {},
   "source": [
    "Normalizing in scikit-learn refers to rescaling each observation (row) to have a length of 1 (called a unit norm or a vector with the length of 1 in linear algebra). \n",
    "\n",
    "This pre-processing method can be useful for sparse datasets (lots of zeros) with attributes of varying scales when using algorithms that weight input values such as neural networks and algorithms that use distance measures such as k-Nearest Neighbors. \n",
    "\n",
    "You can normalize data in Python with scikit-learn using the Normalizer class"
   ]
  },
  {
   "cell_type": "code",
   "execution_count": 213,
   "metadata": {},
   "outputs": [
    {
     "name": "stdout",
     "output_type": "stream",
     "text": [
      "[[1. 1. 1. 0.]\n",
      " [1. 1. 1. 0.]\n",
      " [1. 1. 1. 0.]\n",
      " [1. 1. 1. 0.]\n",
      " [1. 1. 1. 0.]]\n"
     ]
    }
   ],
   "source": [
    "# Normalize data (length of 1)\n",
    "\n",
    "from sklearn.preprocessing import Binarizer\n",
    "from numpy import set_printoptions\n",
    "\n",
    "array=df.values\n",
    "\n",
    "# separate array into input and output components\n",
    "X=array[:,0:4]\n",
    "Y=array[:,4]\n",
    "\n",
    "binarizer=Binarizer(threshold=0.5).fit(X)\n",
    "binaryX=binarizer.transform(X)\n",
    "\n",
    "# summarize transformed data\n",
    "\n",
    "set_printoptions(precision=3)\n",
    "\n",
    "print(binaryX[0:5,:])"
   ]
  },
  {
   "cell_type": "markdown",
   "metadata": {},
   "source": [
    "You can transform your data using a binary threshold. \n",
    "\n",
    "All values above the threshold are marked 1 and all equal to or below are marked as 0. \n",
    "\n",
    "This is called binarizing your data or thresholding your data.\n",
    "\n",
    "It can be useful when you have probabilities that you want to make crisp values. \n",
    "\n",
    "It is also useful when feature engineering and you want to add new features that indicate something meaningful. \n",
    "\n",
    "You can create new binary attributes in Python using scikit-learn with the Binarizer class.\n",
    "\n",
    "In above case ,You can see that all values equal or less than 0.5 are marked 0 and all of those above 0 are marked 1."
   ]
  },
  {
   "cell_type": "markdown",
   "metadata": {},
   "source": [
    "## Feature Selection For Machine Learning"
   ]
  },
  {
   "cell_type": "code",
   "execution_count": 214,
   "metadata": {},
   "outputs": [
    {
     "name": "stdout",
     "output_type": "stream",
     "text": [
      "[ 10.818   3.594 116.17   67.245]\n",
      "\n",
      "\n",
      "[[5.1 1.4 0.2]\n",
      " [4.9 1.4 0.2]\n",
      " [4.7 1.3 0.2]\n",
      " [4.6 1.5 0.2]\n",
      " [5.  1.4 0.2]]\n"
     ]
    }
   ],
   "source": [
    "# Feature Extraction with Univariate Statistical Tests (Chi-squared for classification)\n",
    "\n",
    "from numpy import set_printoptions\n",
    "\n",
    "from sklearn.feature_selection import SelectKBest\n",
    "from sklearn.feature_selection import chi2\n",
    "\n",
    "array=df.values\n",
    "\n",
    "X=array[:,0:4]\n",
    "Y=array[:,4]\n",
    "\n",
    "# feature extraction\n",
    "\n",
    "test=SelectKBest(score_func=chi2,k=3)\n",
    "fit=test.fit(X,Y)\n",
    "\n",
    "# summarize scores\n",
    "\n",
    "set_printoptions(precision=3)\n",
    "print(fit.scores_)\n",
    "print('\\n')\n",
    "features=fit.transform(X)\n",
    "\n",
    "# summarize selected features\n",
    "\n",
    "print(features[0:5,:])"
   ]
  },
  {
   "cell_type": "markdown",
   "metadata": {},
   "source": [
    "Statistical tests can be used to select those features that have the strongest relationship with the output variable.\n",
    "\n",
    "The scikit-learn library provides the SelectKBest class that can be used with a suite of diﬀerent statistical tests to select a speciﬁc number of features.\n",
    "\n",
    "The example above uses the chi-squared (chi2) statistical test for non-negative features to select 3 of the best features from iris dataset.\n",
    "\n",
    "You can see the scores for each attribute and the 3 attributes chosen (those with the highest scores):(sepal_length,petal_length,petal_width)\n",
    "\n"
   ]
  },
  {
   "cell_type": "code",
   "execution_count": 215,
   "metadata": {},
   "outputs": [
    {
     "name": "stdout",
     "output_type": "stream",
     "text": [
      "number of features to be selected \n",
      " 2\n",
      "selected features [False  True False  True]\n",
      "feature ranking [3 1 2 1]\n"
     ]
    }
   ],
   "source": [
    "# Feature Extraction with RFE\n",
    "\n",
    "from sklearn.feature_selection import RFE\n",
    "from sklearn.linear_model import LogisticRegression\n",
    "\n",
    "array=df.values\n",
    "X=array[:,0:4]\n",
    "Y=array[:,4]\n",
    "\n",
    "# feature extraction\n",
    "\n",
    "model=LogisticRegression()\n",
    "rfe=RFE(model,2)\n",
    "fit=rfe.fit(X,Y)\n",
    "\n",
    "print(\"number of features to be selected \\n\",fit.n_features_)\n",
    "print(\"selected features\",fit.support_)\n",
    "print(\"feature ranking\",fit.ranking_)\n"
   ]
  },
  {
   "cell_type": "markdown",
   "metadata": {},
   "source": [
    "The Recursive Feature Elimination (or RFE) works by recursively removing attributes and building a model on those attributes that remain. \n",
    "\n",
    "It uses the model accuracy to identify which attributes (and combination of attributes) contribute the most to predicting the target attribute. \n",
    "\n",
    "The example below uses RFE with the logistic regression algorithm to select the top 2 features. \n",
    "\n",
    "The choice of algorithm does not matter too much as long as it is skillful and consistent.\n",
    "\n"
   ]
  },
  {
   "cell_type": "code",
   "execution_count": 216,
   "metadata": {},
   "outputs": [
    {
     "name": "stdout",
     "output_type": "stream",
     "text": [
      "explained variance \n",
      " [0.925 0.053]\n",
      "[[ 0.362 -0.082  0.857  0.359]\n",
      " [ 0.657  0.73  -0.176 -0.075]]\n"
     ]
    }
   ],
   "source": [
    "# Feature Extraction with PCA\n",
    "\n",
    "from sklearn.decomposition import PCA\n",
    "\n",
    "array=df.values\n",
    "\n",
    "X=array[:,0:4]\n",
    "Y=array[:,4]\n",
    "\n",
    "# feature extraction\n",
    "\n",
    "pca=PCA(n_components=2)\n",
    "fit=pca.fit(X)\n",
    "\n",
    "# summarize components\n",
    "\n",
    "print(\"explained variance \\n\",fit.explained_variance_ratio_)\n",
    "print(fit.components_)\n"
   ]
  },
  {
   "cell_type": "markdown",
   "metadata": {},
   "source": [
    "Principal Component Analysis (or PCA) uses linear algebra to transform the dataset into a compressed form. \n",
    "\n",
    "Generally this is called a data reduction technique.\n",
    "\n",
    "A property of PCA is that you can choose the number of dimensions or principal components in the transformed result. \n",
    "\n",
    "In the example below, we use PCA and select 2 principal components. "
   ]
  },
  {
   "cell_type": "code",
   "execution_count": 217,
   "metadata": {},
   "outputs": [
    {
     "name": "stdout",
     "output_type": "stream",
     "text": [
      "[0.067 0.059 0.336 0.537]\n"
     ]
    }
   ],
   "source": [
    "# Feature Importance with Extra Trees Classifier\n",
    "\n",
    "from sklearn.ensemble import ExtraTreesClassifier\n",
    "\n",
    "array=df.values\n",
    "\n",
    "X=array[:,0:4]\n",
    "Y=array[:,4]\n",
    "\n",
    "# feature extraction\n",
    "\n",
    "model=ExtraTreesClassifier()\n",
    "model.fit(X,Y)\n",
    "\n",
    "print(model.feature_importances_)"
   ]
  },
  {
   "cell_type": "markdown",
   "metadata": {},
   "source": [
    "Bagged decision trees like Random Forest and Extra Trees can be used to estimate the importance of features. \n",
    "\n",
    "In the example below we construct a ExtraTreesClassifier classiﬁer for the iris dataset.\n",
    "\n",
    "In the above case,You can see that we are given an importance score for each attribute where the larger the score, \n",
    "\n",
    "the more important the attribute. \n",
    "\n",
    "The scores suggest at the importance of petal_width, petal_length and sepal_length."
   ]
  },
  {
   "cell_type": "markdown",
   "metadata": {},
   "source": [
    "## Evaluate the Performance of ML  Algorithms with Resampling"
   ]
  },
  {
   "cell_type": "code",
   "execution_count": 218,
   "metadata": {},
   "outputs": [
    {
     "name": "stdout",
     "output_type": "stream",
     "text": [
      "accuracy 88.88888888888889\n"
     ]
    }
   ],
   "source": [
    "# Evaluate using a train and a test set\n",
    "\n",
    "from sklearn.model_selection import train_test_split\n",
    "\n",
    "from sklearn.linear_model import LogisticRegression\n",
    "\n",
    "array=df.values\n",
    "\n",
    "X=array[:,0:4]\n",
    "Y=array[:,4]\n",
    "\n",
    "test_size=0.30\n",
    "seed=7\n",
    "\n",
    "X_train,X_test,Y_train,Y_test=train_test_split(X,Y,test_size=test_size,random_state=seed)\n",
    "\n",
    "model=LogisticRegression()\n",
    "model.fit(X_train, Y_train)\n",
    "\n",
    "result=model.score(X_test,Y_test)\n",
    "\n",
    "print(\"accuracy\",result*100.0)\n"
   ]
  },
  {
   "cell_type": "markdown",
   "metadata": {},
   "source": [
    " We can take our original dataset and split it into two parts. \n",
    " \n",
    " Train the algorithm on the ﬁrst part, make predictions on the second part and evaluate the predictions against the expected results. \n",
    " \n",
    " The size of the split can depend on the size and speciﬁcs of your dataset, although it is common to use 67% of the data for training and the remaining 33% for testing. \n",
    " \n",
    " This algorithm evaluation technique is very fast. \n",
    " It is ideal for large datasets (millions of records) where there is strong evidence that both splits of the data are representative of the underlying problem.\n",
    " \n",
    " A downside of this technique is that it can have a high variance. This means that diﬀerences in the training and test dataset can result in meaningful diﬀerences in the estimate of accuracy. \n",
    " \n",
    " Note that in addition to specifying the size of the split, we also specify the random seed. Because the split of the data is random, we want to ensure that the results are reproducible. \n",
    " \n",
    " By specifying the random seed we ensure that we get the same random numbers each time we run the code and in turn the same split of data.  "
   ]
  },
  {
   "cell_type": "code",
   "execution_count": 219,
   "metadata": {},
   "outputs": [
    {
     "name": "stdout",
     "output_type": "stream",
     "text": [
      "accuracy : 87.99999999999999 14.847371634213394\n"
     ]
    }
   ],
   "source": [
    "# Evaluate using Cross Validation\n",
    "\n",
    "from sklearn.model_selection import KFold\n",
    "from sklearn.model_selection import cross_val_score\n",
    "from sklearn.linear_model import LogisticRegression\n",
    "\n",
    "array=df.values\n",
    "X=array[:,0:4]\n",
    "Y=array[:,4]\n",
    "seed=7\n",
    "num_fold=10\n",
    "\n",
    "kfold=KFold(n_splits=num_fold,random_state=seed)\n",
    "model=LogisticRegression()\n",
    "\n",
    "results=cross_val_score(model,X,Y,cv=kfold)\n",
    "\n",
    "print(\"accuracy :\",results.mean()*100,results.std()*100)\n",
    "\n"
   ]
  },
  {
   "cell_type": "markdown",
   "metadata": {},
   "source": [
    "Cross validation is an approach that you can use to estimate the performance of a machine learning algorithm with less variance than a single train-test set split.\n",
    "\n",
    "It works by splitting the dataset into k-parts (e.g. k = 5 or k = 10). \n",
    "\n",
    "Each split of the data is called a fold. The algorithm is trained on k−1 folds with one held back and tested on the held back fold.\n",
    "\n",
    "This is repeated so that each fold of the dataset is given a chance to be the held back test set.\n",
    "\n",
    "After running cross validation you end up with k diﬀerent performance scores that you can summarize using a mean and a standard deviation.\n",
    "\n",
    " It is more accurate because the algorithm is trained and evaluated multiple times on diﬀerent data. \n",
    " \n",
    " The choice of k must allow the size of each test partition to be large enough to be a reasonable sample of the problem, whilst allowing enough repetitions of the train-test evaluation of the algorithm to provide a fair estimate of the algorithms performance on unseen data. \n",
    " \n",
    " For modest sized datasets in the thousands or tens of thousands of records, k values of 3, 5 and 10 are common."
   ]
  },
  {
   "cell_type": "code",
   "execution_count": 220,
   "metadata": {},
   "outputs": [
    {
     "name": "stdout",
     "output_type": "stream",
     "text": [
      "accuracy : 95.33333333333334 21.092389359408497\n"
     ]
    }
   ],
   "source": [
    "# Evaluate using Leave One Out Cross Validation\n",
    "\n",
    "from sklearn.model_selection import LeaveOneOut\n",
    "from sklearn.model_selection import cross_val_score\n",
    "from sklearn.linear_model import LogisticRegression\n",
    "\n",
    "array=df.values\n",
    "X=array[:,0:4]\n",
    "Y=array[:,4]\n",
    "num_folds=10\n",
    "\n",
    "loocv=LeaveOneOut()\n",
    "model=LogisticRegression()\n",
    "\n",
    "results=cross_val_score(model,X,Y,cv=loocv)\n",
    "\n",
    "print(\"accuracy :\",results.mean()*100.0,results.std()*100)"
   ]
  },
  {
   "cell_type": "markdown",
   "metadata": {},
   "source": [
    "You can conﬁgure cross validation so that the size of the fold is 1 (k is set to the number of observations in your dataset). \n",
    "This variation of cross validation is called leave-one-out cross validation.\n",
    "\n",
    "The result is a large number of performance measures that can be summarized in an eﬀort to give a more reasonable estimate of the accuracy of your model on unseen data. \n",
    "\n",
    "A downside is that it can be a computationally more expensive procedure than k-fold cross validation. \n",
    "\n",
    "You can see in the standard deviation that the score has more variance than the k-fold cross validation results described above."
   ]
  },
  {
   "cell_type": "code",
   "execution_count": 221,
   "metadata": {},
   "outputs": [
    {
     "name": "stdout",
     "output_type": "stream",
     "text": [
      "accuracy : 93.80000000000001 3.0265491900843093\n"
     ]
    }
   ],
   "source": [
    "# Evaluate using Shuffle Split Cross Validation\n",
    "\n",
    "from sklearn.model_selection import ShuffleSplit\n",
    "from sklearn.model_selection import cross_val_score\n",
    "from sklearn.linear_model import LogisticRegression\n",
    "\n",
    "array=df.values\n",
    "X=array[:,0:4]\n",
    "Y=array[:,4]\n",
    "n_splits=10\n",
    "test_size=0.33\n",
    "seed=7\n",
    "\n",
    "kfolds=ShuffleSplit(n_splits=n_splits,test_size=test_size,random_state=seed)\n",
    "model=LogisticRegression()\n",
    "\n",
    "results=cross_val_score(model,X,Y,cv=kfolds)\n",
    "print(\"accuracy :\",results.mean()*100.0,results.std()*100.0)\n",
    "\n"
   ]
  },
  {
   "cell_type": "markdown",
   "metadata": {},
   "source": [
    "Another variation on k-fold cross validation is to create a random split of the data like the train/test split described above, \n",
    "\n",
    "but repeat the process of splitting and evaluation of the algorithm multiple times, like cross validation. \n",
    "\n",
    "This has the speed of using a train/test split and the reduction in variance in the estimated performance of k-fold cross validation.\n",
    "\n",
    "You can also repeat the process many more times as needed to improve the accuracy. \n",
    "\n",
    "A down side is that repetitions may include much of the same data in the train or the test split from run to run, introducing redundancy into the evaluation.\n",
    "\n",
    "We can see that in this case the distribution of the performance measure is on par with k-fold cross validation above."
   ]
  },
  {
   "cell_type": "markdown",
   "metadata": {},
   "source": [
    "## Machine Learning Algorithm Performance Metrics"
   ]
  },
  {
   "cell_type": "markdown",
   "metadata": {},
   "source": [
    "### Classiﬁcation Metrics"
   ]
  },
  {
   "cell_type": "code",
   "execution_count": 222,
   "metadata": {},
   "outputs": [
    {
     "name": "stdout",
     "output_type": "stream",
     "text": [
      "accuracy : 0.8799999999999999 0.14847371634213394\n"
     ]
    }
   ],
   "source": [
    "# Cross Validation Classification Accuracy\n",
    "\n",
    "from sklearn.model_selection import KFold\n",
    "from sklearn.model_selection import cross_val_score\n",
    "from sklearn.linear_model import LogisticRegression\n",
    "\n",
    "array=df.values\n",
    "X=array[:,0:4]\n",
    "Y=array[:,4]\n",
    "\n",
    "kfolds=KFold(n_splits=10,random_state=7)\n",
    "model=LogisticRegression()\n",
    "\n",
    "scoring='accuracy'\n",
    "results=cross_val_score(model,X,Y,cv=kfolds,scoring=scoring)\n",
    "\n",
    "print(\"accuracy :\",results.mean(),results.std())"
   ]
  },
  {
   "cell_type": "markdown",
   "metadata": {},
   "source": [
    "Classiﬁcation accuracy is the number of correct predictions made as a ratio of all predictions made. \n",
    "\n",
    "This is the most common evaluation metric for classiﬁcation problems, it is also the most misused.\n",
    "\n",
    "It is really only suitable when there are an equal number of observations in each class (which is rarely the case) and that all predictions and prediction errors are equally important, which is often not the case.\n",
    "\n",
    "You can see that the ratio is reported. This can be converted into a percentage by multiplying the value by 100\n"
   ]
  },
  {
   "cell_type": "code",
   "execution_count": 223,
   "metadata": {},
   "outputs": [],
   "source": [
    "# Cross Validation Classification LogLoss\n",
    "\n",
    "#from sklearn.model_selection import KFold \n",
    "#from sklearn.model_selection import cross_val_score \n",
    "#from sklearn.linear_model import LogisticRegression\n",
    "\n",
    "#array=df.values\n",
    "#X=array[:,0:4]\n",
    "#Y=array[:,4]\n",
    "\n",
    "#kfold = KFold(n_splits=10, random_state=7) \n",
    "#model = LogisticRegression() \n",
    "#scoring = 'neg_log_loss'\n",
    "#results = cross_val_score(model, X, Y, cv=kfold, scoring=scoring) \n",
    "\n",
    "#print(\"accuracy :\",results.mean(),results.std())"
   ]
  },
  {
   "cell_type": "markdown",
   "metadata": {},
   "source": [
    "Logarithmic loss (or logloss) is a performance metric for evaluating the predictions of probabilities of membership to a given class. \n",
    "The scalar probability between 0 and 1 can be seen as a measure of conﬁdence for a prediction by an algorithm.\n",
    "\n",
    "Predictions that are correct or incorrect are rewarded or punished proportionally to the conﬁdence of the prediction. \n",
    "\n",
    "Smaller logloss is better with 0 representing a perfect logloss. As mentioned above, the measure is inverted to be ascending when using the cross val score() function.\n",
    "\n",
    "\n",
    "In the above case,there is only one class involved not any binary class. it is applicable to binary classiﬁcation problem "
   ]
  },
  {
   "cell_type": "code",
   "execution_count": 224,
   "metadata": {},
   "outputs": [],
   "source": [
    "# Cross Validation Classification LogLoss\n",
    "\n",
    "#from sklearn.model_selection import KFold \n",
    "#from sklearn.model_selection import cross_val_score \n",
    "#from sklearn.linear_model import LogisticRegression\n",
    "\n",
    "#array=df.values\n",
    "#X=array[:,0:4]\n",
    "#Y=array[:,4]\n",
    "\n",
    "#kfold = KFold(n_splits=10, random_state=7) \n",
    "#model = LogisticRegression() \n",
    "#scoring = roc_auc'\n",
    "#results = cross_val_score(model, X, Y, cv=kfold, scoring=scoring) \n",
    "\n",
    "#print(\"accuracy :\",results.mean(),results.std())"
   ]
  },
  {
   "cell_type": "markdown",
   "metadata": {},
   "source": [
    "Area under ROC Curve (or AUC for short) is a performance metric for binary classiﬁcation problems. \n",
    "\n",
    "The AUC represents a model’s ability to discriminate between positive and negative classes. \n",
    "\n",
    "An area of 1.0 represents a model that made all predictions perfectly. \n",
    "\n",
    "An area of 0.5 represents a model that is as good as random.\n",
    "\n",
    "ROC can be broken down into sensitivity and speciﬁcity. A binary classiﬁcation problem is really a trade-oﬀ between sensitivity and speciﬁcity.\n",
    "\n",
    " Sensitivity is the true positive rate also called the recall. It is the number of instances from the positive (ﬁrst) class that actually predicted correctly.\n",
    "\n",
    " Speciﬁcity is also called the true negative rate. Is the number of instances from the negative (second) class that were actually predicted correctly.\n",
    "\n",
    "In the above case,there is only one class involved not any binary class. it is applicable to binary classiﬁcation problem \n"
   ]
  },
  {
   "cell_type": "code",
   "execution_count": 225,
   "metadata": {},
   "outputs": [
    {
     "name": "stdout",
     "output_type": "stream",
     "text": [
      "[[12  0  0]\n",
      " [ 0 12  4]\n",
      " [ 0  1 16]]\n"
     ]
    }
   ],
   "source": [
    "# Cross Validation Classification Confusion Matrix\n",
    "\n",
    "from sklearn.model_selection import train_test_split\n",
    "from sklearn.linear_model import LogisticRegression \n",
    "from sklearn.metrics import confusion_matrix\n",
    "\n",
    "array=df.values\n",
    "\n",
    "X=array[:,0:4]\n",
    "Y=array[:,4]\n",
    "\n",
    "test_size=0.30\n",
    "seed=7\n",
    "\n",
    "X_train,X_test,Y_train,Y_test=train_test_split(X,Y,test_size=test_size,random_state=seed)\n",
    "\n",
    "model=LogisticRegression()\n",
    "model.fit(X_train, Y_train)\n",
    "\n",
    "predicted = model.predict(X_test) \n",
    "\n",
    "matrix = confusion_matrix(Y_test, predicted) \n",
    "\n",
    "print(matrix)"
   ]
  },
  {
   "cell_type": "markdown",
   "metadata": {},
   "source": [
    "The confusion matrix is a handy presentation of the accuracy of a model with two or more classes. \n",
    "\n",
    "The table presents predictions on the x-axis and accuracy outcomes on the y-axis.\n",
    "\n",
    "The cells of the table are the number of predictions made by a machine learning algorithm. \n",
    "\n",
    "For example, a machine learning algorithm can predict 0 or 1 and each prediction may actually have been a 0 or 1.\n",
    "\n",
    "Predictions for 0 that were actually 0 appear in the cell for prediction = 0 and actual = 0, \n",
    "\n",
    "whereas predictions for 0 that were actually 1 appear in the cell for prediction = 0 and actual = 1. And so on.\n",
    "\n",
    "Although the array is printed without headings, you can see that the majority of the predictions fall on the diagonal line of the matrix (which are correct predictions).\n"
   ]
  },
  {
   "cell_type": "code",
   "execution_count": 226,
   "metadata": {},
   "outputs": [
    {
     "name": "stdout",
     "output_type": "stream",
     "text": [
      "                 precision    recall  f1-score   support\n",
      "\n",
      "    Iris-setosa       1.00      1.00      1.00        12\n",
      "Iris-versicolor       0.92      0.75      0.83        16\n",
      " Iris-virginica       0.80      0.94      0.86        17\n",
      "\n",
      "    avg / total       0.90      0.89      0.89        45\n",
      "\n"
     ]
    }
   ],
   "source": [
    "# Cross Validation Classification Report\n",
    "\n",
    "from sklearn.model_selection import train_test_split\n",
    "from sklearn.linear_model import LogisticRegression\n",
    "from sklearn.metrics import classification_report\n",
    "\n",
    "array=df.values\n",
    "\n",
    "X=array[:,0:4]\n",
    "Y=array[:,4]\n",
    "\n",
    "test_size=0.30\n",
    "seed=7\n",
    "\n",
    "X_train,X_test,Y_train,Y_test=train_test_split(X,Y,test_size=test_size,random_state=seed)\n",
    "\n",
    "model=LogisticRegression()\n",
    "model.fit(X_train,Y_train)\n",
    "\n",
    "predicted=model.predict(X_test)\n",
    "\n",
    "report=classification_report(Y_test,predicted)\n",
    "\n",
    "print(report)"
   ]
  },
  {
   "cell_type": "markdown",
   "metadata": {},
   "source": [
    "The scikit-learn library provides a convenience report when working on classiﬁcation problems to give you a quick idea of the accuracy of a model using a number of measures. \n",
    "\n",
    "The classification report() function displays the precision, recall, F1-score and support for each class."
   ]
  },
  {
   "cell_type": "markdown",
   "metadata": {},
   "source": [
    "## Spot-Check Classiﬁcation Algorithms"
   ]
  },
  {
   "cell_type": "markdown",
   "metadata": {},
   "source": [
    "### Linear Machine Learning Algorithms"
   ]
  },
  {
   "cell_type": "code",
   "execution_count": 227,
   "metadata": {},
   "outputs": [
    {
     "name": "stdout",
     "output_type": "stream",
     "text": [
      "accuracy : 0.8799999999999999\n"
     ]
    }
   ],
   "source": [
    "# Logistic Regression Classification\n",
    "\n",
    "from sklearn.model_selection import cross_val_score\n",
    "from sklearn.model_selection import KFold\n",
    "from sklearn.linear_model import LogisticRegression\n",
    "\n",
    "array=df.values\n",
    "\n",
    "X=array[:,0:4]\n",
    "Y=array[:,4]\n",
    "num_folds=10\n",
    "\n",
    "kfold=KFold(n_splits=num_folds,random_state=7)\n",
    "model=LogisticRegression()\n",
    "result=cross_val_score(model,X,Y,cv=kfold)\n",
    "\n",
    "print(\"accuracy :\",result.mean())"
   ]
  },
  {
   "cell_type": "markdown",
   "metadata": {},
   "source": [
    "Logistic regression assumes a Gaussian distribution for the numeric input variables and can model binary classiﬁcation problems.\n",
    "\n",
    "You can construct a logistic regression model using the LogisticRegression class.\n",
    "\n",
    "Running the example prints the mean estimated accuracy."
   ]
  },
  {
   "cell_type": "code",
   "execution_count": 228,
   "metadata": {},
   "outputs": [
    {
     "name": "stdout",
     "output_type": "stream",
     "text": [
      "accuracy 0.9666666666666668\n"
     ]
    },
    {
     "name": "stderr",
     "output_type": "stream",
     "text": [
      "C:\\Users\\sonu\\Anaconda3\\lib\\site-packages\\sklearn\\discriminant_analysis.py:442: UserWarning: The priors do not sum to 1. Renormalizing\n",
      "  UserWarning)\n",
      "C:\\Users\\sonu\\Anaconda3\\lib\\site-packages\\sklearn\\discriminant_analysis.py:442: UserWarning: The priors do not sum to 1. Renormalizing\n",
      "  UserWarning)\n",
      "C:\\Users\\sonu\\Anaconda3\\lib\\site-packages\\sklearn\\discriminant_analysis.py:442: UserWarning: The priors do not sum to 1. Renormalizing\n",
      "  UserWarning)\n",
      "C:\\Users\\sonu\\Anaconda3\\lib\\site-packages\\sklearn\\discriminant_analysis.py:442: UserWarning: The priors do not sum to 1. Renormalizing\n",
      "  UserWarning)\n",
      "C:\\Users\\sonu\\Anaconda3\\lib\\site-packages\\sklearn\\discriminant_analysis.py:442: UserWarning: The priors do not sum to 1. Renormalizing\n",
      "  UserWarning)\n",
      "C:\\Users\\sonu\\Anaconda3\\lib\\site-packages\\sklearn\\discriminant_analysis.py:442: UserWarning: The priors do not sum to 1. Renormalizing\n",
      "  UserWarning)\n"
     ]
    }
   ],
   "source": [
    "# LDA Classification\n",
    "\n",
    "from sklearn.model_selection import cross_val_score\n",
    "from sklearn.model_selection import KFold\n",
    "from sklearn.discriminant_analysis import LinearDiscriminantAnalysis\n",
    "\n",
    "array=df.values\n",
    "\n",
    "X=array[:,0:4]\n",
    "Y=array[:,4]\n",
    "\n",
    "num_folds=10\n",
    "\n",
    "kfolds=KFold(n_splits=num_folds,random_state=10)\n",
    "model=LinearDiscriminantAnalysis()\n",
    "result=cross_val_score(model,X,Y,cv=kfolds)\n",
    "\n",
    "print(\"accuracy\",result.mean())"
   ]
  },
  {
   "cell_type": "markdown",
   "metadata": {},
   "source": [
    "Linear Discriminant Analysis or LDA is a statistical technique for binary and multiclass classiﬁcation. \n",
    "\n",
    "It too assumes a Gaussian distribution for the numerical input variables.\n",
    "\n",
    "You can construct an LDA model using the LinearDiscriminantAnalysis class.\n",
    "\n",
    "Running the example prints the mean estimated accuracy.\n"
   ]
  },
  {
   "cell_type": "markdown",
   "metadata": {},
   "source": [
    "### Nonlinear Machine Learning Algorithms"
   ]
  },
  {
   "cell_type": "code",
   "execution_count": 229,
   "metadata": {},
   "outputs": [
    {
     "name": "stdout",
     "output_type": "stream",
     "text": [
      "accuracy 0.9333333333333333\n"
     ]
    }
   ],
   "source": [
    "# KNN Classificatio\n",
    "\n",
    "from sklearn.model_selection import cross_val_score\n",
    "from sklearn.model_selection import KFold\n",
    "from sklearn.neighbors import KNeighborsClassifier\n",
    "\n",
    "array=df.values\n",
    "X=array[:,0:4]\n",
    "Y=array[:,4]\n",
    "\n",
    "num_folds=10\n",
    "\n",
    "kfold=KFold(n_splits=num_folds,random_state=7)\n",
    "model=KNeighborsClassifier()\n",
    "\n",
    "result=cross_val_score(model,X,Y,cv=kfold)\n",
    "\n",
    "print(\"accuracy\",result.mean())"
   ]
  },
  {
   "cell_type": "markdown",
   "metadata": {},
   "source": [
    "The k-Nearest Neighbors algorithm (or KNN) uses a distance metric to ﬁnd the k most similar instances in the training data for a new instance and takes the mean outcome of the neighbors as the prediction. \n",
    "\n",
    "You can construct a KNN model using the KNeighborsClassifier class.\n",
    "\n",
    "Running the example prints the mean estimated accuracy."
   ]
  },
  {
   "cell_type": "code",
   "execution_count": 230,
   "metadata": {},
   "outputs": [
    {
     "name": "stdout",
     "output_type": "stream",
     "text": [
      "accuracy : 0.9466666666666667\n"
     ]
    }
   ],
   "source": [
    "# Gaussian Naive Bayes Classification\n",
    "\n",
    "from sklearn.model_selection import cross_val_score\n",
    "from sklearn.model_selection import KFold\n",
    "from sklearn.naive_bayes import GaussianNB\n",
    "\n",
    "array=df.values\n",
    "X=array[:,0:4]\n",
    "Y=array[:,4]\n",
    "num_folds=10\n",
    "\n",
    "kfold=KFold(n_splits=num_folds,random_state=7)\n",
    "model=GaussianNB()\n",
    "\n",
    "result=cross_val_score(model,X,Y,cv=kfold)\n",
    "\n",
    "print(\"accuracy :\",result.mean())"
   ]
  },
  {
   "cell_type": "markdown",
   "metadata": {},
   "source": [
    "Naive Bayes calculates the probability of each class and the conditional probability of each class given each input value. \n",
    "\n",
    "These probabilities are estimated for new data and multiplied together, assuming that they are all independent (a simple or naive assumption). \n",
    "\n",
    "When working with real-valued data, a Gaussian distribution is assumed to easily estimate the probabilities for input variables using the Gaussian Probability Density Function.\n",
    "\n",
    "You can construct a Naive Bayes model using the GaussianNB class.\n",
    "\n",
    "Running the example prints the mean estimated accuracy."
   ]
  },
  {
   "cell_type": "code",
   "execution_count": 231,
   "metadata": {},
   "outputs": [
    {
     "name": "stdout",
     "output_type": "stream",
     "text": [
      "accuracy: 0.9333333333333333\n"
     ]
    }
   ],
   "source": [
    "# CART Classification\n",
    "\n",
    "from sklearn.model_selection import cross_val_score\n",
    "from sklearn.model_selection import KFold\n",
    "from sklearn.tree import DecisionTreeClassifier\n",
    "\n",
    "array=df.values\n",
    "\n",
    "X=array[:,0:4]\n",
    "Y=array[:,4]\n",
    "\n",
    "num_fold=10\n",
    "\n",
    "kfolds=KFold(n_splits=num_fold,random_state=7)\n",
    "model=DecisionTreeClassifier()\n",
    "\n",
    "result=cross_val_score(model,X,Y,cv=kfolds)\n",
    "\n",
    "print(\"accuracy:\",result.mean())"
   ]
  },
  {
   "cell_type": "markdown",
   "metadata": {},
   "source": [
    "Classiﬁcation and Regression Trees (CART or just decision trees) construct a binary tree from the training data. \n",
    "\n",
    "Split points are chosen greedily by evaluating each attribute and each value of each attribute in the training data in order to minimize a cost function (like the Gini index). \n",
    "\n",
    "You can construct a CART model using the DecisionTreeClassifier class.\n",
    "\n",
    "Running the example prints the mean estimated accuracy."
   ]
  },
  {
   "cell_type": "code",
   "execution_count": 232,
   "metadata": {},
   "outputs": [
    {
     "name": "stdout",
     "output_type": "stream",
     "text": [
      "accuracy: 0.9533333333333334\n"
     ]
    }
   ],
   "source": [
    "# SVM Classification\n",
    "\n",
    "from sklearn.model_selection import KFold\n",
    "from sklearn.model_selection import cross_val_score\n",
    "from sklearn.svm import SVC\n",
    "\n",
    "array=df.values\n",
    "X=array[:,0:4]\n",
    "Y=array[:,4]\n",
    "\n",
    "num_fold=10\n",
    "\n",
    "kfold=KFold(n_splits=num_fold,random_state=7)\n",
    "model=SVC()\n",
    "\n",
    "result=cross_val_score(model,X,Y,cv=kfold)\n",
    "\n",
    "print(\"accuracy:\",result.mean())"
   ]
  },
  {
   "cell_type": "markdown",
   "metadata": {},
   "source": [
    "Support Vector Machines (or SVM) seek a line that best separates two classes. \n",
    "\n",
    "Those data instances that are closest to the line that best separates the classes are called support vectors and inﬂuence where the line is placed. \n",
    "\n",
    "SVM has been extended to support multiple classes. Of particular importance is the use of diﬀerent kernel functions via the kernel parameter.\n",
    "\n",
    "A powerful Radial Basis Function is used by default. You can construct an SVM model using the SVC class.\n",
    "\n",
    "\n",
    "Running the example prints the mean estimated accuracy."
   ]
  },
  {
   "cell_type": "markdown",
   "metadata": {},
   "source": [
    "## Compare Machine Learning Algorithms"
   ]
  },
  {
   "cell_type": "code",
   "execution_count": 233,
   "metadata": {},
   "outputs": [
    {
     "name": "stdout",
     "output_type": "stream",
     "text": [
      "('LR', 0.8799999999999999, 0.14847371634213394)\n",
      "('LDA', 0.9666666666666668, 0.061463629715285906)\n",
      "('svm', 0.9533333333333334, 0.052068331172711015)\n",
      "('CART', 0.9533333333333334, 0.052068331172711015)\n",
      "('KNN', 0.9333333333333333, 0.08432740427115676)\n",
      "('NB', 0.9466666666666667, 0.0581186525805423)\n"
     ]
    },
    {
     "name": "stderr",
     "output_type": "stream",
     "text": [
      "C:\\Users\\sonu\\Anaconda3\\lib\\site-packages\\sklearn\\discriminant_analysis.py:442: UserWarning: The priors do not sum to 1. Renormalizing\n",
      "  UserWarning)\n",
      "C:\\Users\\sonu\\Anaconda3\\lib\\site-packages\\sklearn\\discriminant_analysis.py:442: UserWarning: The priors do not sum to 1. Renormalizing\n",
      "  UserWarning)\n",
      "C:\\Users\\sonu\\Anaconda3\\lib\\site-packages\\sklearn\\discriminant_analysis.py:442: UserWarning: The priors do not sum to 1. Renormalizing\n",
      "  UserWarning)\n",
      "C:\\Users\\sonu\\Anaconda3\\lib\\site-packages\\sklearn\\discriminant_analysis.py:442: UserWarning: The priors do not sum to 1. Renormalizing\n",
      "  UserWarning)\n",
      "C:\\Users\\sonu\\Anaconda3\\lib\\site-packages\\sklearn\\discriminant_analysis.py:442: UserWarning: The priors do not sum to 1. Renormalizing\n",
      "  UserWarning)\n",
      "C:\\Users\\sonu\\Anaconda3\\lib\\site-packages\\sklearn\\discriminant_analysis.py:442: UserWarning: The priors do not sum to 1. Renormalizing\n",
      "  UserWarning)\n"
     ]
    },
    {
     "data": {
      "image/png": "[encoded data removed]",
      "text/plain": [
       "<Figure size 432x288 with 1 Axes>"
      ]
     },
     "metadata": {},
     "output_type": "display_data"
    }
   ],
   "source": [
    "# Compare Algorithms\n",
    "\n",
    "import matplotlib.pyplot as plt\n",
    "from sklearn.model_selection import KFold\n",
    "from sklearn.model_selection import cross_val_score\n",
    "from sklearn.linear_model import LogisticRegression\n",
    "from sklearn.discriminant_analysis import LinearDiscriminantAnalysis\n",
    "from sklearn.svm import SVC\n",
    "from sklearn.tree import DecisionTreeClassifier\n",
    "from sklearn.neighbors import KNeighborsClassifier\n",
    "from sklearn.naive_bayes import GaussianNB\n",
    "\n",
    "array=df.values\n",
    "X=array[:,0:4]\n",
    "Y=array[:,4]\n",
    "num_fold=10\n",
    "\n",
    "# prepare models\n",
    "\n",
    "models=[]\n",
    "\n",
    "models.append(('LR',LogisticRegression()))\n",
    "models.append(('LDA',LinearDiscriminantAnalysis()))\n",
    "models.append(('svm',SVC()))\n",
    "models.append(('CART',DecisionTreeClassifier()))\n",
    "models.append(('KNN',KNeighborsClassifier()))\n",
    "models.append(('NB',GaussianNB()))\n",
    "\n",
    "# evaluate each model in turn\n",
    "\n",
    "results=[]\n",
    "names=[]\n",
    "score='accuracy'\n",
    "\n",
    "for name,model in models:\n",
    "    kfold=KFold(n_splits=num_fold,random_state=7)\n",
    "    cv_results=cross_val_score(model,X,Y,cv=kfold,scoring=score)\n",
    "    results.append(cv_results)\n",
    "    names.append(name)\n",
    "    msg=(name,cv_results.mean(),cv_results.std())\n",
    "    print(msg)\n",
    "    \n",
    "# boxplot algorithm comparison\n",
    "\n",
    "fig=plt.figure()\n",
    "fig.suptitle('Algorithm Comparision')\n",
    "ax=fig.add_subplot(111)\n",
    "plt.boxplot(results)\n",
    "ax.set_xticklabels(names)\n",
    "plt.show()\n",
    "\n",
    "    \n",
    "\n"
   ]
  },
  {
   "cell_type": "markdown",
   "metadata": {},
   "source": [
    "When you have a new dataset, it is a good idea to visualize the data using diﬀerent techniques in order to look at the data from diﬀerent perspectives.\n",
    "\n",
    "The same idea applies to model selection. \n",
    "\n",
    "You should use a number of diﬀerent ways of looking at the estimated accuracy of your machine learning algorithms in order to choose the one or two algorithm to ﬁnalize. \n",
    "\n",
    "A way to do this is to use visualization methods to show the average accuracy, variance and other properties of the distribution of model accuracies. \n",
    "\n",
    "Running the example provides a list of each algorithm short name, the mean accuracy and the standard deviation accuracy.\n",
    "\n",
    "The example also provides a box and whisker plot showing the spread of the accuracy scores across each cross validation fold for each algorithm.\n",
    "\n",
    "From these results, it would suggest thatlinear discriminant analysis ,CART,KNN are perhaps worthy of further study on this problem."
   ]
  },
  {
   "cell_type": "markdown",
   "metadata": {},
   "source": [
    "## Automate Machine Learning Workﬂows with Pipelines"
   ]
  },
  {
   "cell_type": "markdown",
   "metadata": {},
   "source": [
    "### Data Preparation and Modeling Pipeline"
   ]
  },
  {
   "cell_type": "code",
   "execution_count": 234,
   "metadata": {},
   "outputs": [
    {
     "name": "stdout",
     "output_type": "stream",
     "text": [
      "0.9666666666666668\n"
     ]
    },
    {
     "name": "stderr",
     "output_type": "stream",
     "text": [
      "C:\\Users\\sonu\\Anaconda3\\lib\\site-packages\\sklearn\\utils\\validation.py:475: DataConversionWarning: Data with input dtype object was converted to float64 by StandardScaler.\n",
      "  warnings.warn(msg, DataConversionWarning)\n",
      "C:\\Users\\sonu\\Anaconda3\\lib\\site-packages\\sklearn\\discriminant_analysis.py:442: UserWarning: The priors do not sum to 1. Renormalizing\n",
      "  UserWarning)\n",
      "C:\\Users\\sonu\\Anaconda3\\lib\\site-packages\\sklearn\\utils\\validation.py:475: DataConversionWarning: Data with input dtype object was converted to float64 by StandardScaler.\n",
      "  warnings.warn(msg, DataConversionWarning)\n",
      "C:\\Users\\sonu\\Anaconda3\\lib\\site-packages\\sklearn\\discriminant_analysis.py:442: UserWarning: The priors do not sum to 1. Renormalizing\n",
      "  UserWarning)\n",
      "C:\\Users\\sonu\\Anaconda3\\lib\\site-packages\\sklearn\\utils\\validation.py:475: DataConversionWarning: Data with input dtype object was converted to float64 by StandardScaler.\n",
      "  warnings.warn(msg, DataConversionWarning)\n",
      "C:\\Users\\sonu\\Anaconda3\\lib\\site-packages\\sklearn\\discriminant_analysis.py:442: UserWarning: The priors do not sum to 1. Renormalizing\n",
      "  UserWarning)\n",
      "C:\\Users\\sonu\\Anaconda3\\lib\\site-packages\\sklearn\\utils\\validation.py:475: DataConversionWarning: Data with input dtype object was converted to float64 by StandardScaler.\n",
      "  warnings.warn(msg, DataConversionWarning)\n",
      "C:\\Users\\sonu\\Anaconda3\\lib\\site-packages\\sklearn\\discriminant_analysis.py:442: UserWarning: The priors do not sum to 1. Renormalizing\n",
      "  UserWarning)\n",
      "C:\\Users\\sonu\\Anaconda3\\lib\\site-packages\\sklearn\\utils\\validation.py:475: DataConversionWarning: Data with input dtype object was converted to float64 by StandardScaler.\n",
      "  warnings.warn(msg, DataConversionWarning)\n",
      "C:\\Users\\sonu\\Anaconda3\\lib\\site-packages\\sklearn\\discriminant_analysis.py:442: UserWarning: The priors do not sum to 1. Renormalizing\n",
      "  UserWarning)\n",
      "C:\\Users\\sonu\\Anaconda3\\lib\\site-packages\\sklearn\\utils\\validation.py:475: DataConversionWarning: Data with input dtype object was converted to float64 by StandardScaler.\n",
      "  warnings.warn(msg, DataConversionWarning)\n",
      "C:\\Users\\sonu\\Anaconda3\\lib\\site-packages\\sklearn\\discriminant_analysis.py:442: UserWarning: The priors do not sum to 1. Renormalizing\n",
      "  UserWarning)\n",
      "C:\\Users\\sonu\\Anaconda3\\lib\\site-packages\\sklearn\\utils\\validation.py:475: DataConversionWarning: Data with input dtype object was converted to float64 by StandardScaler.\n",
      "  warnings.warn(msg, DataConversionWarning)\n",
      "C:\\Users\\sonu\\Anaconda3\\lib\\site-packages\\sklearn\\utils\\validation.py:475: DataConversionWarning: Data with input dtype object was converted to float64 by StandardScaler.\n",
      "  warnings.warn(msg, DataConversionWarning)\n",
      "C:\\Users\\sonu\\Anaconda3\\lib\\site-packages\\sklearn\\utils\\validation.py:475: DataConversionWarning: Data with input dtype object was converted to float64 by StandardScaler.\n",
      "  warnings.warn(msg, DataConversionWarning)\n",
      "C:\\Users\\sonu\\Anaconda3\\lib\\site-packages\\sklearn\\utils\\validation.py:475: DataConversionWarning: Data with input dtype object was converted to float64 by StandardScaler.\n",
      "  warnings.warn(msg, DataConversionWarning)\n"
     ]
    }
   ],
   "source": [
    "# Create a pipeline that standardizes the data then creates a model\n",
    "\n",
    "from sklearn.model_selection import cross_val_score\n",
    "from sklearn.model_selection import KFold\n",
    "from sklearn.pipeline import Pipeline\n",
    "from sklearn.preprocessing import StandardScaler\n",
    "from sklearn.discriminant_analysis import LinearDiscriminantAnalysis\n",
    "\n",
    "array=df.values\n",
    "X=array[:,0:4]\n",
    "Y=array[:,4]\n",
    "\n",
    "#create pipeline\n",
    "\n",
    "estimator=[]\n",
    "estimator.append(('scaler',StandardScaler()))\n",
    "estimator.append(('LDA',LinearDiscriminantAnalysis()))\n",
    "model=Pipeline(estimator)\n",
    "\n",
    "# evaluate pipeline\n",
    "\n",
    "kfold=KFold(n_splits=10,random_state=7)\n",
    "results=cross_val_score(model,X,Y,cv=kfold)\n",
    "\n",
    "print(results.mean())\n"
   ]
  },
  {
   "cell_type": "markdown",
   "metadata": {},
   "source": [
    " Data preparation is one easy way to leak knowledge of the whole training dataset to the algorithm.\n",
    " \n",
    " For example, preparing your data using normalization or standardization on the entire training dataset before learning would not be a valid test because the training dataset would have been inﬂuenced by the scale of the data in the test set. \n",
    "\n",
    "\n",
    "Pipelines help you prevent data leakage in your test harness by ensuring that data preparation like standardization is constrained to each fold of your cross validation procedure. \n",
    "\n",
    "Notice how we create a Python list of steps that are provided to the Pipeline for process the data. \n",
    "\n",
    "Also notice how the Pipeline itself is treated like an estimator and is evaluated in its entirety by the k-fold cross validation procedure. \n",
    "\n",
    "Running the example provides a summary of accuracy of the setup on the dataset."
   ]
  },
  {
   "cell_type": "markdown",
   "metadata": {},
   "source": [
    "### Feature Extraction and Modeling Pipeline"
   ]
  },
  {
   "cell_type": "code",
   "execution_count": 235,
   "metadata": {},
   "outputs": [
    {
     "name": "stdout",
     "output_type": "stream",
     "text": [
      "0.9066666666666666\n"
     ]
    }
   ],
   "source": [
    "# Create a pipeline that extracts features from the data then creates a model\n",
    "\n",
    "from sklearn.model_selection import cross_val_score\n",
    "from sklearn.model_selection import KFold\n",
    "from sklearn.pipeline import Pipeline\n",
    "from sklearn.pipeline import FeatureUnion\n",
    "from sklearn.decomposition import PCA\n",
    "from sklearn.linear_model import LogisticRegression\n",
    "from sklearn.feature_selection import SelectKBest\n",
    "\n",
    "array=df.values\n",
    "X=array[:,0:4]\n",
    "Y=array[:,4]\n",
    "\n",
    "# create feature union\n",
    "\n",
    "features = [] \n",
    "features.append(('pca', PCA(n_components=3))) \n",
    "features.append(('select_best', SelectKBest(k='all')))\n",
    "feature_union = FeatureUnion(features)\n",
    "\n",
    "# create pipeline \n",
    "\n",
    "estimators = [] \n",
    "estimators.append(('feature_union', feature_union)) \n",
    "estimators.append(('logistic', LogisticRegression())) \n",
    "model = Pipeline(estimators) \n",
    "\n",
    "# evaluate pipeline \n",
    "\n",
    "kfold = KFold(n_splits=10, random_state=7) \n",
    "results = cross_val_score(model, X, Y, cv=kfold) \n",
    "\n",
    "print(results.mean())\n"
   ]
  },
  {
   "cell_type": "markdown",
   "metadata": {},
   "source": [
    "Feature extraction is another procedure that is susceptible to data leakage. \n",
    "\n",
    "Like data preparation, feature extraction procedures must be restricted to the data in your training dataset. \n",
    "\n",
    "The pipeline provides a handy tool called the FeatureUnion which allows the results of multiple feature selection and extraction procedures to be combined into a larger dataset on which a model can be trained. \n",
    "\n",
    "Importantly, all the feature extraction and the feature union occurs within each fold of the cross validation procedure.\n",
    "\n",
    "The example below demonstrates the pipeline deﬁned with four steps:\n",
    "1. Feature Extraction with Principal Component Analysis (3 features).\n",
    "2. Feature Extraction with Statistical Selection (6 features).\n",
    "3. Feature Union.\n",
    "4. Learn a Logistic Regression Model.\n",
    "\n",
    "The pipeline is then evaluated using 10-fold cross validation.\n",
    "\n",
    "Notice how the FeatureUnion is it’s own Pipeline that in turn is a single step in the ﬁnal Pipeline used to feed Logistic Regression.\n",
    "\n",
    "This might get you thinking about how you can start embedding pipelines within pipelines. \n",
    "\n",
    "Running the example provides a summary of accuracy of the setup on the dataset"
   ]
  },
  {
   "cell_type": "markdown",
   "metadata": {},
   "source": [
    "## Improve Performance with Ensembles"
   ]
  },
  {
   "cell_type": "markdown",
   "metadata": {},
   "source": [
    "### Bagging Algorithms"
   ]
  },
  {
   "cell_type": "markdown",
   "metadata": {},
   "source": [
    "### Bagged Decision Trees"
   ]
  },
  {
   "cell_type": "code",
   "execution_count": 236,
   "metadata": {},
   "outputs": [
    {
     "name": "stdout",
     "output_type": "stream",
     "text": [
      "0.9466666666666667\n"
     ]
    }
   ],
   "source": [
    "# Bagged Decision Trees for Classification\n",
    "from sklearn.model_selection import KFold \n",
    "from sklearn.model_selection import cross_val_score \n",
    "from sklearn.ensemble import BaggingClassifier\n",
    "from sklearn.tree import DecisionTreeClassifier\n",
    "\n",
    "array=df.values\n",
    "X=array[:,0:4]\n",
    "Y=array[:,4]\n",
    "\n",
    "seed=7\n",
    "kfold=KFold(n_splits=10,random_state=7)\n",
    "\n",
    "cart=DecisionTreeClassifier()\n",
    "n_tree=100\n",
    "\n",
    "model=BaggingClassifier(base_estimator=cart,n_estimators=n_tree,random_state=seed)\n",
    "\n",
    "result=cross_val_score(model,X,Y,cv=kfold)\n",
    "\n",
    "print(result.mean())"
   ]
  },
  {
   "cell_type": "markdown",
   "metadata": {},
   "source": [
    "Bagging: Building multiple models (typically of the same type) from diﬀerent subsamples of the training dataset.\n",
    "\n",
    "Bootstrap Aggregation (or Bagging) involves taking multiple samples from your training dataset (with replacement) and training a model for each sample. \n",
    "The ﬁnal output prediction is averaged across the predictions of all of the sub-models. \n",
    "\n",
    "Bagging performs best with algorithms that have high variance. \n",
    "\n",
    "A popular example are decision trees, often constructed without pruning.\n",
    "\n",
    "In the example below is an example of using the BaggingClassifier with the Classiﬁcation and Regression Trees algorithm (DecisionTreeClassifier1). A total of 100 trees are created.\n",
    "\n"
   ]
  },
  {
   "cell_type": "markdown",
   "metadata": {},
   "source": [
    "### Random Forest"
   ]
  },
  {
   "cell_type": "code",
   "execution_count": 237,
   "metadata": {},
   "outputs": [
    {
     "name": "stdout",
     "output_type": "stream",
     "text": [
      "0.9466666666666667\n"
     ]
    }
   ],
   "source": [
    "# Random Forest Classification\n",
    "\n",
    "from sklearn.model_selection import cross_val_score\n",
    "from sklearn.model_selection import KFold\n",
    "from sklearn.ensemble import RandomForestClassifier\n",
    "\n",
    "array=df.values\n",
    "X=array[:,0:4]\n",
    "Y=array[:,4]\n",
    "\n",
    "n_tree=100\n",
    "max_feature=3\n",
    "\n",
    "kfold=KFold(n_splits=10,random_state=7)\n",
    "\n",
    "model=RandomForestClassifier(n_estimators=n_tree,max_features=max_feature)\n",
    "\n",
    "result=cross_val_score(model,X,Y,cv=kfold)\n",
    "\n",
    "print(result.mean())\n"
   ]
  },
  {
   "cell_type": "markdown",
   "metadata": {},
   "source": [
    "Random Forests is an extension of bagged decision trees. \n",
    "\n",
    "Samples of the training dataset are taken with replacement, but the trees are constructed in a way that reduces the correlation between individual classiﬁers. \n",
    "\n",
    "Speciﬁcally, rather than greedily choosing the best split point in the construction of each tree, only a random subset of features are considered for each split. \n",
    "\n",
    "You can construct a Random Forest model for classiﬁcation using the RandomForestClassifier class.\n",
    "\n",
    "The example below demonstrates using Random Forest for classiﬁcation with 100 trees and split points chosen from a random selection of 3 features.\n"
   ]
  },
  {
   "cell_type": "markdown",
   "metadata": {},
   "source": [
    "### Extra Trees"
   ]
  },
  {
   "cell_type": "code",
   "execution_count": 238,
   "metadata": {},
   "outputs": [
    {
     "name": "stdout",
     "output_type": "stream",
     "text": [
      "0.9400000000000001\n"
     ]
    }
   ],
   "source": [
    "# Extra Trees Classification\n",
    "\n",
    "from sklearn.model_selection import cross_val_score\n",
    "from sklearn.model_selection import KFold\n",
    "from sklearn.ensemble import ExtraTreesClassifier\n",
    "\n",
    "\n",
    "array=df.values\n",
    "X=array[:,0:4]\n",
    "Y=array[:,4]\n",
    "\n",
    "n_tree=100\n",
    "max_feature=3\n",
    "\n",
    "kfold=KFold(n_splits=10,random_state=7)\n",
    "\n",
    "model=ExtraTreesClassifier(n_estimators=n_tree,max_features=max_feature)\n",
    "\n",
    "result=cross_val_score(model,X,Y,cv=kfold)\n",
    "\n",
    "print(result.mean())"
   ]
  },
  {
   "cell_type": "markdown",
   "metadata": {},
   "source": [
    "Extra Trees are another modiﬁcation of bagging where random trees are constructed from samples of the training dataset. \n",
    "\n",
    "You can construct an Extra Trees model for classiﬁcation using the ExtraTreesClassifier class. \n",
    "\n",
    "The example below provides a demonstration of extra trees with the number of trees set to 100 and splits chosen from 3 random features."
   ]
  },
  {
   "cell_type": "markdown",
   "metadata": {},
   "source": [
    "### Boosting Algorithms"
   ]
  },
  {
   "cell_type": "markdown",
   "metadata": {},
   "source": [
    "### AdaBoost"
   ]
  },
  {
   "cell_type": "code",
   "execution_count": 239,
   "metadata": {},
   "outputs": [
    {
     "name": "stdout",
     "output_type": "stream",
     "text": [
      "0.9400000000000001\n"
     ]
    }
   ],
   "source": [
    "# AdaBoost Classification\n",
    "\n",
    "from sklearn.model_selection import cross_val_score\n",
    "from sklearn.model_selection import KFold\n",
    "from sklearn.ensemble import AdaBoostClassifier\n",
    "\n",
    "array=df.values\n",
    "X=array[:,0:4]\n",
    "Y=array[:,4]\n",
    "\n",
    "n_tree=30\n",
    "seed=7\n",
    "\n",
    "kfold=KFold(n_splits=10,random_state=seed)\n",
    "\n",
    "model=AdaBoostClassifier(n_estimators=n_tree,random_state=seed)\n",
    "\n",
    "result=cross_val_score(model,X,Y,cv=kfold)\n",
    "\n",
    "print(result.mean())\n"
   ]
  },
  {
   "cell_type": "markdown",
   "metadata": {},
   "source": [
    "Boosting: Building multiple models (typically of the same type) each of which learns to ﬁx the prediction errors of a prior model in the sequence of models.\n",
    "\n",
    "Boosting ensemble algorithms creates a sequence of models that attempt to correct the mistakes of the models before them in the sequence. \n",
    "\n",
    "Once created, the models make predictions which may be weighted by their demonstrated accuracy and the results are combined to create a ﬁnal output prediction.\n",
    "\n",
    "AdaBoost was perhaps the ﬁrst successful boosting ensemble algorithm.\n",
    "\n",
    "It generally works by weighting instances in the dataset by how easy or diﬃcult they are to classify, allowing the algorithm to pay or less attention to them in the construction of subsequent models. \n",
    "\n",
    "You can construct an AdaBoost model for classiﬁcation using the AdaBoostClassifier class4.\n",
    "\n",
    "The example above demonstrates the construction of 30 decision trees in sequence using the AdaBoost algorithm.\n"
   ]
  },
  {
   "cell_type": "markdown",
   "metadata": {},
   "source": [
    "### Stochastic Gradient Boosting"
   ]
  },
  {
   "cell_type": "code",
   "execution_count": 240,
   "metadata": {},
   "outputs": [
    {
     "name": "stdout",
     "output_type": "stream",
     "text": [
      "0.9400000000000001\n"
     ]
    }
   ],
   "source": [
    "# Stochastic Gradient Boosting Classification\n",
    "\n",
    "from sklearn.model_selection import cross_val_score\n",
    "from sklearn.model_selection import KFold\n",
    "from sklearn.ensemble import GradientBoostingClassifier\n",
    "\n",
    "array=df.values\n",
    "X=array[:,0:4]\n",
    "Y=array[:,4]\n",
    "\n",
    "n_tree=100\n",
    "seed=7\n",
    "\n",
    "kfold=KFold(n_splits=10,random_state=seed)\n",
    "\n",
    "model=GradientBoostingClassifier(n_estimators=n_tree,random_state=seed)\n",
    "\n",
    "result=cross_val_score(model,X,Y,cv=kfold)\n",
    "\n",
    "print(result.mean())\n"
   ]
  },
  {
   "cell_type": "markdown",
   "metadata": {},
   "source": [
    "Stochastic Gradient Boosting (also called Gradient Boosting Machines) are one of the most sophisticated ensemble techniques. \n",
    "\n",
    "It is also a technique that is proving to be perhaps one of the best techniques available for improving performance via ensembles.\n",
    "\n",
    "You can construct a Gradient Boosting model for classiﬁcation using the GradientBoostingClassifier class. \n",
    "\n",
    "The example above demonstrates Stochastic Gradient Boosting for classiﬁcation with 100 trees.\n"
   ]
  },
  {
   "cell_type": "markdown",
   "metadata": {},
   "source": [
    "### Voting Ensemble"
   ]
  },
  {
   "cell_type": "code",
   "execution_count": 241,
   "metadata": {},
   "outputs": [
    {
     "name": "stdout",
     "output_type": "stream",
     "text": [
      "0.9466666666666667\n"
     ]
    },
    {
     "name": "stderr",
     "output_type": "stream",
     "text": [
      "C:\\Users\\sonu\\Anaconda3\\lib\\site-packages\\sklearn\\preprocessing\\label.py:151: DeprecationWarning: The truth value of an empty array is ambiguous. Returning False, but in future this will result in an error. Use `array.size > 0` to check that an array is not empty.\n",
      "  if diff:\n",
      "C:\\Users\\sonu\\Anaconda3\\lib\\site-packages\\sklearn\\preprocessing\\label.py:151: DeprecationWarning: The truth value of an empty array is ambiguous. Returning False, but in future this will result in an error. Use `array.size > 0` to check that an array is not empty.\n",
      "  if diff:\n",
      "C:\\Users\\sonu\\Anaconda3\\lib\\site-packages\\sklearn\\preprocessing\\label.py:151: DeprecationWarning: The truth value of an empty array is ambiguous. Returning False, but in future this will result in an error. Use `array.size > 0` to check that an array is not empty.\n",
      "  if diff:\n",
      "C:\\Users\\sonu\\Anaconda3\\lib\\site-packages\\sklearn\\preprocessing\\label.py:151: DeprecationWarning: The truth value of an empty array is ambiguous. Returning False, but in future this will result in an error. Use `array.size > 0` to check that an array is not empty.\n",
      "  if diff:\n",
      "C:\\Users\\sonu\\Anaconda3\\lib\\site-packages\\sklearn\\preprocessing\\label.py:151: DeprecationWarning: The truth value of an empty array is ambiguous. Returning False, but in future this will result in an error. Use `array.size > 0` to check that an array is not empty.\n",
      "  if diff:\n",
      "C:\\Users\\sonu\\Anaconda3\\lib\\site-packages\\sklearn\\preprocessing\\label.py:151: DeprecationWarning: The truth value of an empty array is ambiguous. Returning False, but in future this will result in an error. Use `array.size > 0` to check that an array is not empty.\n",
      "  if diff:\n",
      "C:\\Users\\sonu\\Anaconda3\\lib\\site-packages\\sklearn\\preprocessing\\label.py:151: DeprecationWarning: The truth value of an empty array is ambiguous. Returning False, but in future this will result in an error. Use `array.size > 0` to check that an array is not empty.\n",
      "  if diff:\n",
      "C:\\Users\\sonu\\Anaconda3\\lib\\site-packages\\sklearn\\preprocessing\\label.py:151: DeprecationWarning: The truth value of an empty array is ambiguous. Returning False, but in future this will result in an error. Use `array.size > 0` to check that an array is not empty.\n",
      "  if diff:\n",
      "C:\\Users\\sonu\\Anaconda3\\lib\\site-packages\\sklearn\\preprocessing\\label.py:151: DeprecationWarning: The truth value of an empty array is ambiguous. Returning False, but in future this will result in an error. Use `array.size > 0` to check that an array is not empty.\n",
      "  if diff:\n",
      "C:\\Users\\sonu\\Anaconda3\\lib\\site-packages\\sklearn\\preprocessing\\label.py:151: DeprecationWarning: The truth value of an empty array is ambiguous. Returning False, but in future this will result in an error. Use `array.size > 0` to check that an array is not empty.\n",
      "  if diff:\n"
     ]
    }
   ],
   "source": [
    "# Voting Ensemble for Classification\n",
    "\n",
    "from sklearn.model_selection import cross_val_score\n",
    "from sklearn.model_selection import KFold\n",
    "from sklearn.linear_model import LogisticRegression\n",
    "from sklearn.tree import DecisionTreeClassifier\n",
    "from sklearn.svm import SVC\n",
    "from sklearn.ensemble import VotingClassifier\n",
    "\n",
    "\n",
    "array=df.values\n",
    "X=array[:,0:4]\n",
    "Y=array[:,4]\n",
    "\n",
    "n_tree=100\n",
    "seed=7\n",
    "\n",
    "kfold=KFold(n_splits=10,random_state=seed)\n",
    "\n",
    "# create the sub models\n",
    "\n",
    "estimators=[]\n",
    "model1=LogisticRegression()\n",
    "estimators.append(('logistic',model1))\n",
    "model2=DecisionTreeClassifier()\n",
    "estimators.append(('cart',model2))\n",
    "model3=SVC()\n",
    "estimators.append(('svm',model3))\n",
    "\n",
    "# create the ensemble model\n",
    "\n",
    "model=VotingClassifier(estimators)\n",
    "\n",
    "result=cross_val_score(model,X,Y,cv=kfold)\n",
    "\n",
    "print(result.mean())\n"
   ]
  },
  {
   "cell_type": "markdown",
   "metadata": {},
   "source": [
    "Voting is one of the simplest ways of combining the predictions from multiple machine learning algorithms. \n",
    "\n",
    "It works by ﬁrst creating two or more standalone models from your training dataset.\n",
    "\n",
    "A Voting Classiﬁer can then be used to wrap your models and average the predictions of the sub-models when asked to make predictions for new data.\n",
    "\n",
    "The predictions of the sub-models can be weighted, but specifying the weights for classiﬁers manually or even heuristically is diﬃcult. \n",
    "\n",
    "You can create a voting ensemble model for classiﬁcation using the VotingClassifier class. \n",
    "\n",
    "The code above provides an example of combining the predictions of logistic regression, classiﬁcation and regression trees and support vector machines together for a classiﬁcation problem.\n"
   ]
  },
  {
   "cell_type": "markdown",
   "metadata": {},
   "source": [
    "## Improve Performance with Algorithm Tuning"
   ]
  },
  {
   "cell_type": "markdown",
   "metadata": {},
   "source": [
    "### Grid Search Parameter Tuning"
   ]
  },
  {
   "cell_type": "code",
   "execution_count": 242,
   "metadata": {},
   "outputs": [],
   "source": [
    "# Grid Search for Algorithm Tuning\n",
    "\n",
    "#import numpy  as np\n",
    "#from sklearn.linear_model import Ridge \n",
    "#from sklearn.model_selection import GridSearchCV \n",
    "\n",
    "#array=df.values\n",
    "#X=array[:,0:4]\n",
    "#Y=array[:,4]\n",
    "\n",
    "#alphas=np.array([1,0.1,0.01,0.001,0.0001,0])\n",
    "\n",
    "#param_grid=dict(alpha=alphas)\n",
    "#model=Ridge()\n",
    "#grid=GridSearchCV(estimator=model,param_grid=param_grid)\n",
    "#grid.fit(X,Y)\n",
    "\n",
    "#print(grid.best_score_) \n",
    "#print(grid.best_estimator_.alpha)\n"
   ]
  },
  {
   "cell_type": "markdown",
   "metadata": {},
   "source": [
    "### Random Search Parameter Tuning"
   ]
  },
  {
   "cell_type": "code",
   "execution_count": 243,
   "metadata": {},
   "outputs": [],
   "source": [
    "# Randomized for Algorithm Tuning\n",
    "#import numpy as np\n",
    "#from scipy.stats import uniform\n",
    "#from sklearn.linear_model import Ridge\n",
    "#from sklearn.model_selection import RandomizedSearchCV\n",
    "\n",
    "#array=df.values\n",
    "#X=array[:,0:4]\n",
    "#Y=array[:,4]\n",
    "\n",
    "#param_grid={'alpha':uniform()}\n",
    "#model=Ridge()\n",
    "\n",
    "#rsearch=RandomizedSearchCV(estimator=model,param_distributions=param_grid,n_iter=100,random_state=7)\n",
    "#rsearch.fit(X,Y)\n",
    "\n",
    "#print(rsearch.best_score_)\n",
    "#print(rsearch.best_estimator_.alpha)"
   ]
  },
  {
   "cell_type": "markdown",
   "metadata": {},
   "source": [
    "Random search is an approach to parameter tuning that will sample algorithm parameters from a random distribution (i.e. uniform) for a ﬁxed number of iterations. \n",
    "\n",
    "A model is constructed and evaluated for each combination of parameters chosen.\n",
    "\n",
    "You can perform a random search for algorithm parameters using the RandomizedSearchCV class. \n",
    "\n",
    "The example above evaluates diﬀerent random alpha values between 0 and 1 for the Ridge Regression algorithm on the standard diabetes dataset. \n",
    "\n",
    "A total of 100 iterations are performed with uniformly random alpha values selected in the range between 0 and 1 (the range that alpha values can take).\n"
   ]
  },
  {
   "cell_type": "markdown",
   "metadata": {},
   "source": [
    "## Save and Load Machine Learning Models"
   ]
  },
  {
   "cell_type": "markdown",
   "metadata": {},
   "source": [
    "### Finalize Your Model with pickle"
   ]
  },
  {
   "cell_type": "code",
   "execution_count": 244,
   "metadata": {},
   "outputs": [],
   "source": [
    "# Save Model Using Pickle\n",
    "\n",
    "from sklearn.model_selection import train_test_split\n",
    "from sklearn.linear_model import LogisticRegression\n",
    "from pickle import dump\n",
    "from pickle import load\n",
    "\n",
    "array=df.values\n",
    "X=array[:,0:4]\n",
    "Y=array[:,4]\n",
    "\n",
    "X_train,X_test,Y_train,Y_test=train_test_split(X,Y,test_size=0.33,random_state=7)\n",
    "\n",
    "# Fit the model on 33%\n",
    "\n",
    "model=LogisticRegression()\n",
    "model.fit(X_train,Y_train)\n",
    "\n",
    "# save the model to disk\n",
    "\n",
    "filename=\"F:\\\\finalize_model\\'finalized_model.sav\"\n",
    "dump(model,open(filename,'wb'))\n"
   ]
  },
  {
   "cell_type": "code",
   "execution_count": 245,
   "metadata": {},
   "outputs": [
    {
     "name": "stdout",
     "output_type": "stream",
     "text": [
      "0.9\n"
     ]
    }
   ],
   "source": [
    "# some time later...\n",
    "# load the model from disk\n",
    "\n",
    "loaded_model=load(open(filename,'rb'))\n",
    "result=loaded_model.score(X_test,Y_test)\n",
    "print(result)"
   ]
  },
  {
   "cell_type": "markdown",
   "metadata": {},
   "source": [
    "Pickle is the standard way of serializing objects in Python. \n",
    "You can use the pickle1 operation to serialize your machine learning algorithms and save the serialized format to a ﬁle. \n",
    "Later you can load this ﬁle to deserialize your model and use it to make new predictions. "
   ]
  },
  {
   "cell_type": "markdown",
   "metadata": {},
   "source": [
    "## Finalize Your Model with Joblib"
   ]
  },
  {
   "cell_type": "code",
   "execution_count": 248,
   "metadata": {},
   "outputs": [
    {
     "data": {
      "text/plain": [
       "['F:\\\\finalized_model_joblib.sav']"
      ]
     },
     "execution_count": 248,
     "metadata": {},
     "output_type": "execute_result"
    }
   ],
   "source": [
    "# Save Model Using joblib\n",
    "\n",
    "from sklearn.model_selection import train_test_split\n",
    "from sklearn.linear_model import LogisticRegression\n",
    "from sklearn.externals.joblib import load\n",
    "from sklearn.externals.joblib import dump\n",
    "\n",
    "array=df.values\n",
    "X=array[:,0:4]\n",
    "Y=array[:,4]\n",
    "\n",
    "X_train,X_test,Y_train,Y_test=train_test_split(X,Y,test_size=0.33,random_state=7)\n",
    "\n",
    "model=LogisticRegression()\n",
    "model.fit(X_train,Y_train)\n",
    "\n",
    "filename=\"F:\\\\finalized_model_joblib.sav\"\n",
    "dump(model,filename)"
   ]
  },
  {
   "cell_type": "code",
   "execution_count": 249,
   "metadata": {},
   "outputs": [
    {
     "name": "stdout",
     "output_type": "stream",
     "text": [
      "0.9\n"
     ]
    }
   ],
   "source": [
    "# some time later...\n",
    "# load the model from disk\n",
    "\n",
    "loaded_model=load(filename)\n",
    "result=loaded_model.score(X_test,Y_test)\n",
    "print(result)"
   ]
  },
  {
   "cell_type": "markdown",
   "metadata": {},
   "source": [
    "The Joblib library is part of the SciPy ecosystem and provides utilities for pipelining Python jobs.\n",
    "\n",
    "It provides utilities for saving and loading Python objects that make use of NumPy data structures, eﬃciently. \n",
    "\n",
    "This can be useful for some machine learning algorithms that require a lot of parameters or store the entire dataset (e.g. k-Nearest Neighbors). "
   ]
  }
 ],
 "metadata": {
  "kernelspec": {
   "display_name": "Python 3",
   "language": "python",
   "name": "python3"
  },
  "language_info": {
   "codemirror_mode": {
    "name": "ipython",
    "version": 3
   },
   "file_extension": ".py",
   "mimetype": "text/x-python",
   "name": "python",
   "nbconvert_exporter": "python",
   "pygments_lexer": "ipython3",
   "version": "3.6.5"
  }
 },
 "nbformat": 4,
 "nbformat_minor": 2
}
